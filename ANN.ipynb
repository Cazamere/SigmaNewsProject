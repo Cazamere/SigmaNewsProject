{
 "cells": [
  {
   "cell_type": "code",
   "execution_count": 1,
   "metadata": {},
   "outputs": [],
   "source": [
    "import numpy as np # linear algebra\n",
    "import pandas as pd # data processing, CSV file I/O (e.g. pd.read_csv)\n",
    "import tensorflow as tf\n",
    "from tensorflow import keras\n",
    "from sklearn.preprocessing import normalize\n",
    "import matplotlib.pyplot as plt\n",
    "import pickle\n"
   ]
  },
  {
   "cell_type": "code",
   "execution_count": 2,
   "metadata": {},
   "outputs": [],
   "source": [
    "def loadDataFiles():\n",
    "    market_df = pickle.load(open('Market_train',\"rb\"))\n",
    "    news_df = pickle.load(open(\"News_train\", \"rb\"))\n",
    "    print('Finished loading datafiles!')\n",
    "    return market_df, news_df\n"
   ]
  },
  {
   "cell_type": "code",
   "execution_count": 3,
   "metadata": {},
   "outputs": [],
   "source": [
    "def preprocess_data(mkt_df, news_df):\n",
    "    mkt_df['time'] = pd.to_datetime(mkt_df['time'])\n",
    "    news_df['time'] = pd.to_datetime(news_df['time'])\n",
    "    mkt_df['time'] = mkt_df['time'].dt.date\n",
    "    news_df['time'] = news_df['time'].dt.date\n",
    "    assetCodes = []\n",
    "    index = 0\n",
    "    for x in news_df['assetCodes']:\n",
    "        x = x.split(',')[0].split(\"'\")[1]\n",
    "        assetCodes.append(x)\n",
    "    news_df['assetCode'] = np.asarray(assetCodes)\n",
    "    irrelevantColumns = ['sourceTimestamp', 'firstCreated', 'sourceId', \n",
    "                         'headline', 'provider', 'subjects', 'audiences',\n",
    "                        'headlineTag', 'marketCommentary', 'assetCodes', 'assetName']\n",
    "    news_df.drop(irrelevantColumns, axis=1, inplace=True)\n",
    "    mkt_df.drop(['assetName'], axis=1, inplace=True)\n",
    "    modifiednews = news_df.groupby(['time','assetCode'], sort=False).aggregate(np.mean).reset_index()\n",
    "    \n",
    "    # join news reports to market data, note many assets will have many days without news data\n",
    "    merged = pd.merge(mkt_df, modifiednews, how='left', on=['time', 'assetCode'], copy=False) \n",
    "    merged = merged.fillna(0)\n",
    "    print('Finished preprocessing data!')\n",
    "    return merged\n"
   ]
  },
  {
   "cell_type": "code",
   "execution_count": 4,
   "metadata": {},
   "outputs": [
    {
     "name": "stdout",
     "output_type": "stream",
     "text": [
      "Finished loading datafiles!\n"
     ]
    }
   ],
   "source": [
    "market_data, news_data = loadDataFiles()\n"
   ]
  },
  {
   "cell_type": "code",
   "execution_count": 5,
   "metadata": {},
   "outputs": [
    {
     "name": "stdout",
     "output_type": "stream",
     "text": [
      "Finished preprocessing data!\n"
     ]
    }
   ],
   "source": [
    "X = preprocess_data(market_data, news_data)\n"
   ]
  },
  {
   "cell_type": "code",
   "execution_count": 6,
   "metadata": {},
   "outputs": [],
   "source": [
    "def normalizeY(ydf):\n",
    "    ydf = (ydf + 1) / 2\n",
    "    return ydf\n"
   ]
  },
  {
   "cell_type": "code",
   "execution_count": 8,
   "metadata": {},
   "outputs": [],
   "source": [
    "X = X[X['returnsOpenNextMktres10'] >= -1]\n",
    "X = X[X['returnsOpenNextMktres10'] <= 1]\n",
    "\n",
    "y = X['returnsOpenNextMktres10']\n",
    "\n",
    "X.drop(['returnsOpenNextMktres10'], axis=1, inplace=True)\n",
    "y = normalizeY(y)\n",
    "assetCodesAndTime = X.iloc[:, :2]\n",
    "X = X.iloc[:, 2:]\n"
   ]
  },
  {
   "cell_type": "code",
   "execution_count": 9,
   "metadata": {},
   "outputs": [],
   "source": [
    "def getNNModel(numhiddenlayers=2, nodes=4): # returns NN given hidden layers and nodes\n",
    "    layers = []\n",
    "    layers.append(keras.layers.Flatten(input_shape=(35,)))\n",
    "\n",
    "    for x in range(numhiddenlayers):\n",
    "        layers.append(keras.layers.Dense(nodes, activation=tf.nn.relu, use_bias=True))\n",
    "\n",
    "    layers.append(keras.layers.Dense(1, activation=tf.nn.sigmoid))\n",
    "    model = keras.Sequential(layers)\n",
    "    sgd = keras.optimizers.SGD(lr=.3)\n",
    "    model.compile(optimizer=sgd,\n",
    "              loss='mean_absolute_error',\n",
    "              metrics=['accuracy'])\n",
    "    return model\n"
   ]
  },
  {
   "cell_type": "code",
   "execution_count": 10,
   "metadata": {},
   "outputs": [],
   "source": [
    "def getLinearRegressionModel():\n",
    "    model = keras.Sequential()\n",
    "    model.add(keras.layers.Dense(units=200, input_dim=35))\n",
    "    model.add(keras.layers.Activation('relu'))\n",
    "    model.add(keras.layers.Dense(units=45))\n",
    "    model.add(keras.layers.Activation('relu'))\n",
    "    model.add(keras.layers.Dense(units=1))\n",
    "    model.compile(loss='mean_absolute_error',\n",
    "              optimizer='sgd')\n",
    "    return model\n"
   ]
  },
  {
   "cell_type": "code",
   "execution_count": 11,
   "metadata": {},
   "outputs": [],
   "source": [
    "def regularize(df):\n",
    "    for column in df:\n",
    "        colmin = np.amin(df[column])\n",
    "        colmax = np.amax(df[column])\n",
    "        df[column] = (df[column] - colmin) / (colmax - colmin)\n",
    "    return df"
   ]
  },
  {
   "cell_type": "code",
   "execution_count": 12,
   "metadata": {},
   "outputs": [],
   "source": [
    "X = regularize(X)"
   ]
  },
  {
   "cell_type": "code",
   "execution_count": 13,
   "metadata": {},
   "outputs": [],
   "source": [
    "def splitDataset(X, y, split):\n",
    "    print(len(X.index))\n",
    "    index = int(split*len(y.index))\n",
    "    y_train, y_test = np.split(y, [index])\n",
    "    X_train, X_test = X.iloc[:index, :], X.iloc[index:, :]\n",
    "    return X_train, y_train, X_test, y_test"
   ]
  },
  {
   "cell_type": "code",
   "execution_count": 14,
   "metadata": {
    "scrolled": true
   },
   "outputs": [
    {
     "name": "stdout",
     "output_type": "stream",
     "text": [
      "4072203\n",
      "Epoch 1/1\n",
      "2850542/2850542 [==============================] - 5s 2us/step - loss: 0.0242 - acc: 0.0000e+00\n",
      "1221661/1221661 [==============================] - 15s 12us/step\n",
      "[0.021965545483945612, 0.0]\n"
     ]
    }
   ],
   "source": [
    "X_train, y_train, X_test, y_test = splitDataset(X, y, .7)\n",
    "nnmodel = getNNModel(3, 15)\n",
    "nnmodel.fit(X_train, y_train, epochs=1, verbose=1, batch_size=100000)\n",
    "results = nnmodel.evaluate(X_test, y_test)\n",
    "print(results)"
   ]
  },
  {
   "cell_type": "code",
   "execution_count": 15,
   "metadata": {},
   "outputs": [],
   "source": [
    "def lossMatrix(layers, nodes):\n",
    "    lossmatrix = []\n",
    "    for layer in layers:\n",
    "        lossforlayer = []\n",
    "        for node in nodes:\n",
    "            nnmodel2 = getNNModel(layer, node)\n",
    "            nnmodel2.fit(X,y, epochs=1, verbose=1, batch_size=1000000)\n",
    "            loss, acc = nnmodel2.evaluate(X, y)\n",
    "            lossforlayer.append(loss)\n",
    "        lossmatrix.append(lossforlayer)\n",
    "    print(lossmatrix)"
   ]
  },
  {
   "cell_type": "code",
   "execution_count": null,
   "metadata": {},
   "outputs": [
    {
     "name": "stdout",
     "output_type": "stream",
     "text": [
      "Epoch 1/1\n",
      "2850542/2850542 [==============================] - 11s 4us/step - loss: 0.5547\n",
      "1221661/1221661 [==============================] - 15s 12us/step\n",
      "0.4631840726926496\n"
     ]
    }
   ],
   "source": [
    "lrmodel = getLinearRegressionModel()\n",
    "lrmodel.fit(X_train,y_train, batch_size=1000000, epochs=1)\n",
    "lrpredictions = lrmodel.predict(X_test)\n",
    "loss = lrmodel.evaluate(X_test,y_test)\n",
    "print(loss)"
   ]
  },
  {
   "cell_type": "code",
   "execution_count": null,
   "metadata": {},
   "outputs": [
    {
     "data": {
      "image/png": "[encoded data removed]",
      "text/plain": [
       "<Figure size 432x288 with 1 Axes>"
      ]
     },
     "metadata": {
      "needs_background": "light"
     },
     "output_type": "display_data"
    }
   ],
   "source": [
    "xplot = list(range(len(y_test)))\n",
    "plt.plot(xplot, lrpredictions)\n",
    "plt.show()"
   ]
  },
  {
   "cell_type": "code",
   "execution_count": null,
   "metadata": {},
   "outputs": [
    {
     "data": {
      "image/png": "[encoded data removed]",
      "text/plain": [
       "<Figure size 432x288 with 1 Axes>"
      ]
     },
     "metadata": {
      "needs_background": "light"
     },
     "output_type": "display_data"
    }
   ],
   "source": [
    "plt.plot(xplot, y_test)\n",
    "plt.show()"
   ]
  },
  {
   "cell_type": "code",
   "execution_count": null,
   "metadata": {},
   "outputs": [
    {
     "name": "stdout",
     "output_type": "stream",
     "text": [
      "Epoch 1/10\n",
      "2850542/2850542 [==============================] - 6s 2us/step - loss: 0.0343 - acc: 0.0000e+00\n",
      "Epoch 2/10\n",
      "2850542/2850542 [==============================] - 5s 2us/step - loss: 0.0271 - acc: 0.0000e+00\n",
      "Epoch 3/10\n",
      "2850542/2850542 [==============================] - 6s 2us/step - loss: 0.0259 - acc: 0.0000e+00\n",
      "Epoch 4/10\n",
      "2850542/2850542 [==============================] - 5s 2us/step - loss: 0.0252 - acc: 0.0000e+00\n",
      "Epoch 5/10\n",
      "2850542/2850542 [==============================] - 5s 2us/step - loss: 0.0245 - acc: 0.0000e+00\n",
      "Epoch 6/10\n",
      "2850542/2850542 [==============================] - 5s 2us/step - loss: 0.0242 - acc: 0.0000e+00\n",
      "Epoch 7/10\n",
      "2850542/2850542 [==============================] - 5s 2us/step - loss: 0.0240 - acc: 0.0000e+00\n",
      "Epoch 8/10\n",
      "2850542/2850542 [==============================] - 5s 2us/step - loss: 0.0239 - acc: 0.0000e+00\n",
      "Epoch 9/10\n",
      "2850542/2850542 [==============================] - 5s 2us/step - loss: 0.0239 - acc: 0.0000e+00\n",
      "Epoch 10/10\n",
      "2850542/2850542 [==============================] - 5s 2us/step - loss: 0.0238 - acc: 0.0000e+00\n"
     ]
    },
    {
     "data": {
      "text/plain": [
       "<tensorflow.python.keras.callbacks.History at 0x13f1fceb8>"
      ]
     },
     "execution_count": 19,
     "metadata": {},
     "output_type": "execute_result"
    }
   ],
   "source": [
    "newnnmodel = getNNModel(3,15)\n",
    "hist = keras.callbacks.History()\n",
    "num_epochs = 10\n",
    "newnnmodel.fit(X_train, y_train, epochs=num_epochs, batch_size=1000000, callbacks=[hist])"
   ]
  },
  {
   "cell_type": "code",
   "execution_count": null,
   "metadata": {},
   "outputs": [
    {
     "data": {
      "image/png": "[encoded data removed]",
      "text/plain": [
       "<Figure size 432x288 with 1 Axes>"
      ]
     },
     "metadata": {
      "needs_background": "light"
     },
     "output_type": "display_data"
    }
   ],
   "source": [
    "xr = list(range(num_epochs))\n",
    "plt.plot(xr, hist.history['loss'])\n",
    "plt.show()"
   ]
  },
  {
   "cell_type": "code",
   "execution_count": null,
   "metadata": {},
   "outputs": [],
   "source": [
    "newnnpredictions = newnnmodel.predict(X_test)\n",
    "ss = list(range(len(X_test)))\n",
    "plt.plot(ss, newnnpredictions)\n",
    "plt.show()"
   ]
  },
  {
   "cell_type": "code",
   "execution_count": null,
   "metadata": {},
   "outputs": [],
   "source": [
    "plt.plot(ss, y_test)\n",
    "plt.show()"
   ]
  },
  {
   "cell_type": "code",
   "execution_count": null,
   "metadata": {},
   "outputs": [],
   "source": []
  }
 ],
 "metadata": {
  "kernelspec": {
   "display_name": "Python 3",
   "language": "python",
   "name": "python3"
  },
  "language_info": {
   "codemirror_mode": {
    "name": "ipython",
    "version": 3
   },
   "file_extension": ".py",
   "mimetype": "text/x-python",
   "name": "python",
   "nbconvert_exporter": "python",
   "pygments_lexer": "ipython3",
   "version": "3.6.5"
  }
 },
 "nbformat": 4,
 "nbformat_minor": 2
}
