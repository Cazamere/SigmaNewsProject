{
 "cells": [
  {
   "cell_type": "code",
   "execution_count": 1,
   "metadata": {},
   "outputs": [
    {
     "name": "stderr",
     "output_type": "stream",
     "text": [
      "/home/atharvachalke/anaconda3/lib/python3.6/site-packages/h5py/__init__.py:34: FutureWarning: Conversion of the second argument of issubdtype from `float` to `np.floating` is deprecated. In future, it will be treated as `np.float64 == np.dtype(float).type`.\n",
      "  from ._conv import register_converters as _register_converters\n",
      "Using TensorFlow backend.\n"
     ]
    }
   ],
   "source": [
    "#Import libraries\n",
    "import keras as k\n",
    "import numpy as np\n",
    "import pandas as pd\n",
    "import pickle\n",
    "import tensorflow as tf\n",
    "\n",
    "import matplotlib.pyplot as plt\n",
    "\n"
   ]
  },
  {
   "cell_type": "code",
   "execution_count": 2,
   "metadata": {},
   "outputs": [
    {
     "data": {
      "text/plain": [
       "Index(['time', 'assetCode', 'assetName', 'volume', 'close', 'open',\n",
       "       'returnsClosePrevRaw1', 'returnsOpenPrevRaw1',\n",
       "       'returnsClosePrevMktres1', 'returnsOpenPrevMktres1',\n",
       "       'returnsClosePrevRaw10', 'returnsOpenPrevRaw10',\n",
       "       'returnsClosePrevMktres10', 'returnsOpenPrevMktres10',\n",
       "       'returnsOpenNextMktres10', 'universe'],\n",
       "      dtype='object')"
      ]
     },
     "execution_count": 2,
     "metadata": {},
     "output_type": "execute_result"
    }
   ],
   "source": [
    "#Load market data\n",
    "market_train_df = pickle.load( open( \"Market_train\", \"rb\" ) )\n",
    "market_train_df.columns"
   ]
  },
  {
   "cell_type": "code",
   "execution_count": 3,
   "metadata": {},
   "outputs": [
    {
     "data": {
      "text/html": [
       "<div>\n",
       "<style scoped>\n",
       "    .dataframe tbody tr th:only-of-type {\n",
       "        vertical-align: middle;\n",
       "    }\n",
       "\n",
       "    .dataframe tbody tr th {\n",
       "        vertical-align: top;\n",
       "    }\n",
       "\n",
       "    .dataframe thead th {\n",
       "        text-align: right;\n",
       "    }\n",
       "</style>\n",
       "<table border=\"1\" class=\"dataframe\">\n",
       "  <thead>\n",
       "    <tr style=\"text-align: right;\">\n",
       "      <th></th>\n",
       "      <th>time</th>\n",
       "      <th>sourceTimestamp</th>\n",
       "      <th>firstCreated</th>\n",
       "      <th>sourceId</th>\n",
       "      <th>headline</th>\n",
       "      <th>urgency</th>\n",
       "      <th>takeSequence</th>\n",
       "      <th>provider</th>\n",
       "      <th>subjects</th>\n",
       "      <th>audiences</th>\n",
       "      <th>...</th>\n",
       "      <th>noveltyCount12H</th>\n",
       "      <th>noveltyCount24H</th>\n",
       "      <th>noveltyCount3D</th>\n",
       "      <th>noveltyCount5D</th>\n",
       "      <th>noveltyCount7D</th>\n",
       "      <th>volumeCounts12H</th>\n",
       "      <th>volumeCounts24H</th>\n",
       "      <th>volumeCounts3D</th>\n",
       "      <th>volumeCounts5D</th>\n",
       "      <th>volumeCounts7D</th>\n",
       "    </tr>\n",
       "  </thead>\n",
       "  <tbody>\n",
       "    <tr>\n",
       "      <th>0</th>\n",
       "      <td>2007-01-01 04:29:32+00:00</td>\n",
       "      <td>2007-01-01 04:29:32+00:00</td>\n",
       "      <td>2007-01-01 04:29:32+00:00</td>\n",
       "      <td>e58c6279551b85cf</td>\n",
       "      <td>China's Daqing pumps 43.41 mln tonnes of oil i...</td>\n",
       "      <td>3</td>\n",
       "      <td>1</td>\n",
       "      <td>RTRS</td>\n",
       "      <td>{'ENR', 'ASIA', 'CN', 'NGS', 'EMRG', 'RTRS', '...</td>\n",
       "      <td>{'Z', 'O', 'OIL'}</td>\n",
       "      <td>...</td>\n",
       "      <td>0</td>\n",
       "      <td>0</td>\n",
       "      <td>0</td>\n",
       "      <td>0</td>\n",
       "      <td>0</td>\n",
       "      <td>0</td>\n",
       "      <td>0</td>\n",
       "      <td>3</td>\n",
       "      <td>6</td>\n",
       "      <td>7</td>\n",
       "    </tr>\n",
       "    <tr>\n",
       "      <th>1</th>\n",
       "      <td>2007-01-01 07:03:35+00:00</td>\n",
       "      <td>2007-01-01 07:03:34+00:00</td>\n",
       "      <td>2007-01-01 07:03:34+00:00</td>\n",
       "      <td>5a31c4327427f63f</td>\n",
       "      <td>FEATURE-In kidnapping, finesse works best</td>\n",
       "      <td>3</td>\n",
       "      <td>1</td>\n",
       "      <td>RTRS</td>\n",
       "      <td>{'FEA', 'CA', 'LATAM', 'MX', 'INS', 'ASIA', 'I...</td>\n",
       "      <td>{'PGE', 'PCO', 'G', 'ESN', 'MD', 'PCU', 'DNP',...</td>\n",
       "      <td>...</td>\n",
       "      <td>1</td>\n",
       "      <td>1</td>\n",
       "      <td>1</td>\n",
       "      <td>1</td>\n",
       "      <td>1</td>\n",
       "      <td>1</td>\n",
       "      <td>1</td>\n",
       "      <td>3</td>\n",
       "      <td>3</td>\n",
       "      <td>3</td>\n",
       "    </tr>\n",
       "    <tr>\n",
       "      <th>2</th>\n",
       "      <td>2007-01-01 11:29:56+00:00</td>\n",
       "      <td>2007-01-01 11:29:56+00:00</td>\n",
       "      <td>2007-01-01 11:29:56+00:00</td>\n",
       "      <td>1cefd27a40fabdfe</td>\n",
       "      <td>PRESS DIGEST - Wall Street Journal - Jan 1</td>\n",
       "      <td>3</td>\n",
       "      <td>1</td>\n",
       "      <td>RTRS</td>\n",
       "      <td>{'RET', 'ENR', 'ID', 'BG', 'US', 'PRESS', 'IQ'...</td>\n",
       "      <td>{'T', 'DNP', 'PSC', 'U', 'D', 'M', 'RNP', 'PTD...</td>\n",
       "      <td>...</td>\n",
       "      <td>0</td>\n",
       "      <td>0</td>\n",
       "      <td>0</td>\n",
       "      <td>0</td>\n",
       "      <td>0</td>\n",
       "      <td>0</td>\n",
       "      <td>0</td>\n",
       "      <td>5</td>\n",
       "      <td>11</td>\n",
       "      <td>17</td>\n",
       "    </tr>\n",
       "    <tr>\n",
       "      <th>3</th>\n",
       "      <td>2007-01-01 12:08:37+00:00</td>\n",
       "      <td>2007-01-01 12:08:37+00:00</td>\n",
       "      <td>2007-01-01 12:08:37+00:00</td>\n",
       "      <td>23768af19dc69992</td>\n",
       "      <td>PRESS DIGEST - New York Times - Jan 1</td>\n",
       "      <td>3</td>\n",
       "      <td>1</td>\n",
       "      <td>RTRS</td>\n",
       "      <td>{'FUND', 'FIN', 'CA', 'SFWR', 'INS', 'PUB', 'B...</td>\n",
       "      <td>{'T', 'DNP', 'PSC', 'U', 'D', 'M', 'RNP', 'PTD...</td>\n",
       "      <td>...</td>\n",
       "      <td>0</td>\n",
       "      <td>0</td>\n",
       "      <td>0</td>\n",
       "      <td>0</td>\n",
       "      <td>0</td>\n",
       "      <td>0</td>\n",
       "      <td>0</td>\n",
       "      <td>5</td>\n",
       "      <td>13</td>\n",
       "      <td>15</td>\n",
       "    </tr>\n",
       "    <tr>\n",
       "      <th>4</th>\n",
       "      <td>2007-01-01 12:08:37+00:00</td>\n",
       "      <td>2007-01-01 12:08:37+00:00</td>\n",
       "      <td>2007-01-01 12:08:37+00:00</td>\n",
       "      <td>23768af19dc69992</td>\n",
       "      <td>PRESS DIGEST - New York Times - Jan 1</td>\n",
       "      <td>3</td>\n",
       "      <td>1</td>\n",
       "      <td>RTRS</td>\n",
       "      <td>{'FUND', 'FIN', 'CA', 'SFWR', 'INS', 'PUB', 'B...</td>\n",
       "      <td>{'T', 'DNP', 'PSC', 'U', 'D', 'M', 'RNP', 'PTD...</td>\n",
       "      <td>...</td>\n",
       "      <td>0</td>\n",
       "      <td>0</td>\n",
       "      <td>0</td>\n",
       "      <td>0</td>\n",
       "      <td>0</td>\n",
       "      <td>0</td>\n",
       "      <td>0</td>\n",
       "      <td>0</td>\n",
       "      <td>0</td>\n",
       "      <td>0</td>\n",
       "    </tr>\n",
       "  </tbody>\n",
       "</table>\n",
       "<p>5 rows × 35 columns</p>\n",
       "</div>"
      ],
      "text/plain": [
       "                       time           sourceTimestamp  \\\n",
       "0 2007-01-01 04:29:32+00:00 2007-01-01 04:29:32+00:00   \n",
       "1 2007-01-01 07:03:35+00:00 2007-01-01 07:03:34+00:00   \n",
       "2 2007-01-01 11:29:56+00:00 2007-01-01 11:29:56+00:00   \n",
       "3 2007-01-01 12:08:37+00:00 2007-01-01 12:08:37+00:00   \n",
       "4 2007-01-01 12:08:37+00:00 2007-01-01 12:08:37+00:00   \n",
       "\n",
       "               firstCreated          sourceId  \\\n",
       "0 2007-01-01 04:29:32+00:00  e58c6279551b85cf   \n",
       "1 2007-01-01 07:03:34+00:00  5a31c4327427f63f   \n",
       "2 2007-01-01 11:29:56+00:00  1cefd27a40fabdfe   \n",
       "3 2007-01-01 12:08:37+00:00  23768af19dc69992   \n",
       "4 2007-01-01 12:08:37+00:00  23768af19dc69992   \n",
       "\n",
       "                                            headline  urgency  takeSequence  \\\n",
       "0  China's Daqing pumps 43.41 mln tonnes of oil i...        3             1   \n",
       "1          FEATURE-In kidnapping, finesse works best        3             1   \n",
       "2         PRESS DIGEST - Wall Street Journal - Jan 1        3             1   \n",
       "3              PRESS DIGEST - New York Times - Jan 1        3             1   \n",
       "4              PRESS DIGEST - New York Times - Jan 1        3             1   \n",
       "\n",
       "  provider                                           subjects  \\\n",
       "0     RTRS  {'ENR', 'ASIA', 'CN', 'NGS', 'EMRG', 'RTRS', '...   \n",
       "1     RTRS  {'FEA', 'CA', 'LATAM', 'MX', 'INS', 'ASIA', 'I...   \n",
       "2     RTRS  {'RET', 'ENR', 'ID', 'BG', 'US', 'PRESS', 'IQ'...   \n",
       "3     RTRS  {'FUND', 'FIN', 'CA', 'SFWR', 'INS', 'PUB', 'B...   \n",
       "4     RTRS  {'FUND', 'FIN', 'CA', 'SFWR', 'INS', 'PUB', 'B...   \n",
       "\n",
       "                                           audiences       ...        \\\n",
       "0                                  {'Z', 'O', 'OIL'}       ...         \n",
       "1  {'PGE', 'PCO', 'G', 'ESN', 'MD', 'PCU', 'DNP',...       ...         \n",
       "2  {'T', 'DNP', 'PSC', 'U', 'D', 'M', 'RNP', 'PTD...       ...         \n",
       "3  {'T', 'DNP', 'PSC', 'U', 'D', 'M', 'RNP', 'PTD...       ...         \n",
       "4  {'T', 'DNP', 'PSC', 'U', 'D', 'M', 'RNP', 'PTD...       ...         \n",
       "\n",
       "   noveltyCount12H  noveltyCount24H noveltyCount3D  noveltyCount5D  \\\n",
       "0                0                0              0               0   \n",
       "1                1                1              1               1   \n",
       "2                0                0              0               0   \n",
       "3                0                0              0               0   \n",
       "4                0                0              0               0   \n",
       "\n",
       "   noveltyCount7D  volumeCounts12H volumeCounts24H volumeCounts3D  \\\n",
       "0               0                0               0              3   \n",
       "1               1                1               1              3   \n",
       "2               0                0               0              5   \n",
       "3               0                0               0              5   \n",
       "4               0                0               0              0   \n",
       "\n",
       "   volumeCounts5D  volumeCounts7D  \n",
       "0               6               7  \n",
       "1               3               3  \n",
       "2              11              17  \n",
       "3              13              15  \n",
       "4               0               0  \n",
       "\n",
       "[5 rows x 35 columns]"
      ]
     },
     "execution_count": 3,
     "metadata": {},
     "output_type": "execute_result"
    }
   ],
   "source": [
    "#Load news data\n",
    "news_train_df = pickle.load(open(\"News_train-002\", \"rb\"))\n",
    "news_train_df.head()"
   ]
  },
  {
   "cell_type": "markdown",
   "metadata": {},
   "source": [
    "# Preprocessing\n",
    "\n",
    "### 1. General Preprocessing done for every model\n",
    "\n",
    "### 2. Extract assetCode and convert to integer labels\n",
    "\n",
    "### 3. Extra 7 features for Model\n",
    "\n",
    "### 4. Labels for Regression are : \n",
    "-  Original Features \n",
    "-  Normalized Features \n",
    "\n",
    "### 5. One hot encoded the Regression labels for binary classification using a threshold based on return value\n",
    "\n"
   ]
  },
  {
   "cell_type": "code",
   "execution_count": 4,
   "metadata": {
    "collapsed": true
   },
   "outputs": [],
   "source": [
    "#Preprocess( NO change to asset)\n",
    "def preprocess_data(mkt_train_df, news_train_df):\n",
    "    mkt_train_df['time'] = mkt_train_df['time'].dt.date\n",
    "    news_train_df['time'] = news_train_df['time'].dt.date\n",
    "    assetCodes = []\n",
    "    index = 0\n",
    "    for x in news_train_df['assetCodes']:\n",
    "        x = x.split(',')[0].split(\"'\")[1]\n",
    "        assetCodes.append(x)\n",
    "    news_train_df['assetCode'] = np.asarray(assetCodes)\n",
    "    irrelevantColumns = ['sourceTimestamp', 'firstCreated', 'sourceId', \n",
    "                         'headline', 'provider', 'subjects', 'audiences',\n",
    "                        'headlineTag', 'marketCommentary', 'assetCodes', 'assetName']\n",
    "    news_train_df.drop(irrelevantColumns, axis=1, inplace=True)\n",
    "    market_train_df.drop(['assetName'], axis=1, inplace=True)\n",
    "    modifiednews = news_train_df.groupby(['time','assetCode'], sort=False).aggregate(np.mean).reset_index()\n",
    "    \n",
    "    # join news reports to market data, note many assets will have many days without news data\n",
    "    merged = pd.merge(mkt_train_df, modifiednews, how='left', on=['time', 'assetCode'], copy=False) \n",
    "    merged = merged.fillna(0)\n",
    "    merged.drop(['time'], axis=1,inplace= True)\n",
    "     \n",
    "    return merged"
   ]
  },
  {
   "cell_type": "code",
   "execution_count": 5,
   "metadata": {
    "collapsed": true
   },
   "outputs": [],
   "source": [
    "#Preprocess data\n",
    "X = preprocess_data(market_train_df, news_train_df)"
   ]
  },
  {
   "cell_type": "code",
   "execution_count": 6,
   "metadata": {
    "collapsed": true
   },
   "outputs": [],
   "source": [
    "#Save some memory\n",
    "del market_train_df, news_train_df"
   ]
  },
  {
   "cell_type": "code",
   "execution_count": 7,
   "metadata": {
    "collapsed": true
   },
   "outputs": [],
   "source": [
    "#Get labels and drop that label from X\n",
    "Y = X['returnsOpenNextMktres10']\n",
    "X.drop(['returnsOpenNextMktres10'], axis=1, inplace=True)"
   ]
  },
  {
   "cell_type": "code",
   "execution_count": 8,
   "metadata": {
    "collapsed": true
   },
   "outputs": [],
   "source": [
    "#Asset code manipulation\n",
    "ac = X.assetCode\n",
    "ac = pd.get_dummies(ac)"
   ]
  },
  {
   "cell_type": "code",
   "execution_count": 9,
   "metadata": {
    "collapsed": true
   },
   "outputs": [],
   "source": [
    "#Convert ac to labels\n",
    "ac = ac.values\n",
    "ac = np.argmax(ac, axis =1)\n"
   ]
  },
  {
   "cell_type": "code",
   "execution_count": 10,
   "metadata": {
    "collapsed": true
   },
   "outputs": [],
   "source": [
    "#convert array to pandas dataframe\n",
    "ac = pd.DataFrame(ac, columns = ['assetCode'])"
   ]
  },
  {
   "cell_type": "code",
   "execution_count": 11,
   "metadata": {
    "collapsed": true
   },
   "outputs": [],
   "source": [
    "#Get all cols \n",
    "cols = X.columns\n",
    "all_feat = cols[2:]\n"
   ]
  },
  {
   "cell_type": "code",
   "execution_count": 12,
   "metadata": {},
   "outputs": [
    {
     "name": "stdout",
     "output_type": "stream",
     "text": [
      "\n",
      "   assetCode  close   open  sentimentClass  sentimentNegative  \\\n",
      "0          0  32.19  32.17            0.50           0.080418   \n",
      "1          2  11.12  11.08            0.25           0.138128   \n",
      "2          7  37.51  37.99            0.00           0.000000   \n",
      "3          8  84.74  86.23            0.00           0.000000   \n",
      "4         15  18.02  18.01            0.00           0.000000   \n",
      "\n",
      "   sentimentNeutral  sentimentPositive  returnsOpenNextMktres10  \n",
      "0          0.568264           0.351318                 0.034672  \n",
      "1          0.412758           0.449114                 0.027803  \n",
      "2          0.000000           0.000000                 0.024433  \n",
      "3          0.000000           0.000000                -0.007425  \n",
      "4          0.000000           0.000000                -0.017994  \n"
     ]
    }
   ],
   "source": [
    "#Get features, concat with labels and fill na values with 0s\n",
    "X_new = X[['close','open','sentimentClass','sentimentNegative','sentimentNeutral','sentimentPositive']]\n",
    "X_new = pd.concat((ac,X_new,Y), axis = 1)\n",
    "X_new.fillna(0)\n",
    "print('')\n",
    "print(X_new.head())"
   ]
  },
  {
   "cell_type": "code",
   "execution_count": 13,
   "metadata": {
    "collapsed": true
   },
   "outputs": [],
   "source": [
    "#make a copy of full data-set\n",
    "df_stock =X_new"
   ]
  },
  {
   "cell_type": "code",
   "execution_count": 14,
   "metadata": {
    "collapsed": true
   },
   "outputs": [],
   "source": [
    "##### Remove outliers\n",
    "a = df_stock[df_stock.returnsOpenNextMktres10<1.5]\n",
    "a = a[a.returnsOpenNextMktres10>-1.5]"
   ]
  },
  {
   "cell_type": "code",
   "execution_count": 15,
   "metadata": {
    "collapsed": true
   },
   "outputs": [],
   "source": [
    "#Def normalize if we want to normalize\n",
    "def normalize(Y):\n",
    "    max_v = Y.max()\n",
    "    min_v = Y.min()\n",
    "    Y = Y - min_v\n",
    "    denom = max_v - min_v\n",
    "    Y = Y/denom\n",
    "    return Y"
   ]
  },
  {
   "cell_type": "code",
   "execution_count": 16,
   "metadata": {},
   "outputs": [
    {
     "data": {
      "text/html": [
       "<div>\n",
       "<style scoped>\n",
       "    .dataframe tbody tr th:only-of-type {\n",
       "        vertical-align: middle;\n",
       "    }\n",
       "\n",
       "    .dataframe tbody tr th {\n",
       "        vertical-align: top;\n",
       "    }\n",
       "\n",
       "    .dataframe thead th {\n",
       "        text-align: right;\n",
       "    }\n",
       "</style>\n",
       "<table border=\"1\" class=\"dataframe\">\n",
       "  <thead>\n",
       "    <tr style=\"text-align: right;\">\n",
       "      <th></th>\n",
       "      <th>assetCode</th>\n",
       "      <th>close</th>\n",
       "      <th>open</th>\n",
       "      <th>sentimentClass</th>\n",
       "      <th>sentimentNegative</th>\n",
       "      <th>sentimentNeutral</th>\n",
       "      <th>sentimentPositive</th>\n",
       "    </tr>\n",
       "  </thead>\n",
       "  <tbody>\n",
       "    <tr>\n",
       "      <th>0</th>\n",
       "      <td>0</td>\n",
       "      <td>32.19</td>\n",
       "      <td>32.17</td>\n",
       "      <td>0.50</td>\n",
       "      <td>0.080418</td>\n",
       "      <td>0.568264</td>\n",
       "      <td>0.351318</td>\n",
       "    </tr>\n",
       "    <tr>\n",
       "      <th>1</th>\n",
       "      <td>2</td>\n",
       "      <td>11.12</td>\n",
       "      <td>11.08</td>\n",
       "      <td>0.25</td>\n",
       "      <td>0.138128</td>\n",
       "      <td>0.412758</td>\n",
       "      <td>0.449114</td>\n",
       "    </tr>\n",
       "    <tr>\n",
       "      <th>2</th>\n",
       "      <td>7</td>\n",
       "      <td>37.51</td>\n",
       "      <td>37.99</td>\n",
       "      <td>0.00</td>\n",
       "      <td>0.000000</td>\n",
       "      <td>0.000000</td>\n",
       "      <td>0.000000</td>\n",
       "    </tr>\n",
       "    <tr>\n",
       "      <th>3</th>\n",
       "      <td>8</td>\n",
       "      <td>84.74</td>\n",
       "      <td>86.23</td>\n",
       "      <td>0.00</td>\n",
       "      <td>0.000000</td>\n",
       "      <td>0.000000</td>\n",
       "      <td>0.000000</td>\n",
       "    </tr>\n",
       "    <tr>\n",
       "      <th>4</th>\n",
       "      <td>15</td>\n",
       "      <td>18.02</td>\n",
       "      <td>18.01</td>\n",
       "      <td>0.00</td>\n",
       "      <td>0.000000</td>\n",
       "      <td>0.000000</td>\n",
       "      <td>0.000000</td>\n",
       "    </tr>\n",
       "  </tbody>\n",
       "</table>\n",
       "</div>"
      ],
      "text/plain": [
       "   assetCode  close   open  sentimentClass  sentimentNegative  \\\n",
       "0          0  32.19  32.17            0.50           0.080418   \n",
       "1          2  11.12  11.08            0.25           0.138128   \n",
       "2          7  37.51  37.99            0.00           0.000000   \n",
       "3          8  84.74  86.23            0.00           0.000000   \n",
       "4         15  18.02  18.01            0.00           0.000000   \n",
       "\n",
       "   sentimentNeutral  sentimentPositive  \n",
       "0          0.568264           0.351318  \n",
       "1          0.412758           0.449114  \n",
       "2          0.000000           0.000000  \n",
       "3          0.000000           0.000000  \n",
       "4          0.000000           0.000000  "
      ]
     },
     "execution_count": 16,
     "metadata": {},
     "output_type": "execute_result"
    }
   ],
   "source": [
    "#select features and label\n",
    "X = a.iloc[:,0:-1]\n",
    "Y = a.iloc[:,-1]\n",
    "X.head()"
   ]
  },
  {
   "cell_type": "code",
   "execution_count": 17,
   "metadata": {
    "collapsed": true
   },
   "outputs": [],
   "source": [
    "#Get original values and normalize Y\n",
    "Y_actual = Y.copy()\n",
    "Y_norm = normalize(Y_actual)"
   ]
  },
  {
   "cell_type": "code",
   "execution_count": 18,
   "metadata": {
    "collapsed": true
   },
   "outputs": [],
   "source": [
    "#Convert to numpy\n",
    "X = X.values\n",
    "Y = Y.values"
   ]
  },
  {
   "cell_type": "code",
   "execution_count": 31,
   "metadata": {},
   "outputs": [
    {
     "data": {
      "image/png": "[encoded data removed]",
      "text/plain": [
       "<matplotlib.figure.Figure at 0x7f954f57dac8>"
      ]
     },
     "metadata": {},
     "output_type": "display_data"
    }
   ],
   "source": [
    "#Convert to binary encodings\n",
    "Y[Y>0] = 1\n",
    "Y[Y<0] = 0\n",
    "plt.figure()\n",
    "plt.hist(Y_norm,range = (0.35,0.65))\n",
    "plt.grid()\n",
    "plt.title(\"Distribution of normalized value\")\n",
    "plt.savefig(\"Normalized Y distribution\")\n",
    "plt.show()"
   ]
  },
  {
   "cell_type": "code",
   "execution_count": 32,
   "metadata": {
    "collapsed": true
   },
   "outputs": [],
   "source": [
    "from sklearn.model_selection import train_test_split"
   ]
  },
  {
   "cell_type": "markdown",
   "metadata": {
    "collapsed": true
   },
   "source": [
    "# Regression model with normalized labels"
   ]
  },
  {
   "cell_type": "code",
   "execution_count": 34,
   "metadata": {
    "collapsed": true
   },
   "outputs": [],
   "source": [
    "#Split into train test\n",
    "X_train_act, X_test_act, Y_train_act, Y_test_act = train_test_split(X, Y_norm, test_size=0.1, random_state=42)"
   ]
  },
  {
   "cell_type": "code",
   "execution_count": 42,
   "metadata": {
    "collapsed": true
   },
   "outputs": [],
   "source": [
    "#define model for regression without normalizing labels\n",
    "def build_model(lre):\n",
    "    model = k.Sequential()\n",
    "    model.add(k.layers.Dense(units=128, activation='relu',input_dim = 7))\n",
    "    model.add(k.layers.Dense(units = 1024, activation = 'relu'))\n",
    "    model.add(k.layers.Dense(units = 2058, activation = 'relu'))\n",
    "    model.add(k.layers.Dense(units = 1024, activation = 'sigmoid'))\n",
    "    model.add(k.layers.Dense(units = 1, activation = 'linear'))\n",
    "    adam_o = k.optimizers.Adamax(lr=lre)\n",
    "    model.compile(optimizer = adam_o, loss = 'mean_squared_error', metrics=['mae'])\n",
    "    model.summary()\n",
    "    return model"
   ]
  },
  {
   "cell_type": "code",
   "execution_count": 43,
   "metadata": {},
   "outputs": [
    {
     "name": "stdout",
     "output_type": "stream",
     "text": [
      "_________________________________________________________________\n",
      "Layer (type)                 Output Shape              Param #   \n",
      "=================================================================\n",
      "dense_16 (Dense)             (None, 128)               1024      \n",
      "_________________________________________________________________\n",
      "dense_17 (Dense)             (None, 1024)              132096    \n",
      "_________________________________________________________________\n",
      "dense_18 (Dense)             (None, 2058)              2109450   \n",
      "_________________________________________________________________\n",
      "dense_19 (Dense)             (None, 1024)              2108416   \n",
      "_________________________________________________________________\n",
      "dense_20 (Dense)             (None, 1)                 1025      \n",
      "=================================================================\n",
      "Total params: 4,352,011\n",
      "Trainable params: 4,352,011\n",
      "Non-trainable params: 0\n",
      "_________________________________________________________________\n"
     ]
    }
   ],
   "source": [
    "#\n",
    "model = build_model(0.001)"
   ]
  },
  {
   "cell_type": "code",
   "execution_count": 44,
   "metadata": {},
   "outputs": [
    {
     "name": "stdout",
     "output_type": "stream",
     "text": [
      "Train on 3665177 samples, validate on 407242 samples\n",
      "Epoch 1/40\n",
      "3665177/3665177 [==============================] - 12s 3us/step - loss: 4.2700 - mean_absolute_error: 0.7658 - val_loss: 0.0069 - val_mean_absolute_error: 0.0752\n",
      "Epoch 2/40\n",
      "3665177/3665177 [==============================] - 11s 3us/step - loss: 0.0043 - mean_absolute_error: 0.0541 - val_loss: 0.0014 - val_mean_absolute_error: 0.0304\n",
      "Epoch 3/40\n",
      "3665177/3665177 [==============================] - 11s 3us/step - loss: 9.5622e-04 - mean_absolute_error: 0.0214 - val_loss: 6.6775e-04 - val_mean_absolute_error: 0.0162\n",
      "Epoch 4/40\n",
      "3665177/3665177 [==============================] - 11s 3us/step - loss: 6.7961e-04 - mean_absolute_error: 0.0164 - val_loss: 6.3748e-04 - val_mean_absolute_error: 0.0162\n",
      "Epoch 5/40\n",
      "3665177/3665177 [==============================] - 11s 3us/step - loss: 6.3554e-04 - mean_absolute_error: 0.0161 - val_loss: 6.0927e-04 - val_mean_absolute_error: 0.0160\n",
      "Epoch 6/40\n",
      "3665177/3665177 [==============================] - 11s 3us/step - loss: 6.1094e-04 - mean_absolute_error: 0.0160 - val_loss: 5.9604e-04 - val_mean_absolute_error: 0.0159\n",
      "Epoch 7/40\n",
      "3665177/3665177 [==============================] - 11s 3us/step - loss: 5.9762e-04 - mean_absolute_error: 0.0159 - val_loss: 5.8855e-04 - val_mean_absolute_error: 0.0159\n",
      "Epoch 8/40\n",
      "3665177/3665177 [==============================] - 11s 3us/step - loss: 5.9044e-04 - mean_absolute_error: 0.0159 - val_loss: 5.8445e-04 - val_mean_absolute_error: 0.0159\n",
      "Epoch 9/40\n",
      "3665177/3665177 [==============================] - 11s 3us/step - loss: 5.8592e-04 - mean_absolute_error: 0.0159 - val_loss: 5.8133e-04 - val_mean_absolute_error: 0.0158\n",
      "Epoch 10/40\n",
      "3665177/3665177 [==============================] - 11s 3us/step - loss: 5.8277e-04 - mean_absolute_error: 0.0158 - val_loss: 5.7913e-04 - val_mean_absolute_error: 0.0158\n",
      "Epoch 11/40\n",
      "3665177/3665177 [==============================] - 11s 3us/step - loss: 5.8034e-04 - mean_absolute_error: 0.0158 - val_loss: 5.7759e-04 - val_mean_absolute_error: 0.0158\n",
      "Epoch 12/40\n",
      "3665177/3665177 [==============================] - 11s 3us/step - loss: 5.7859e-04 - mean_absolute_error: 0.0158 - val_loss: 5.7657e-04 - val_mean_absolute_error: 0.0158\n",
      "Epoch 13/40\n",
      "3665177/3665177 [==============================] - 11s 3us/step - loss: 5.7719e-04 - mean_absolute_error: 0.0158 - val_loss: 5.7571e-04 - val_mean_absolute_error: 0.0158\n",
      "Epoch 14/40\n",
      "3665177/3665177 [==============================] - 11s 3us/step - loss: 5.7618e-04 - mean_absolute_error: 0.0158 - val_loss: 5.7519e-04 - val_mean_absolute_error: 0.0158\n",
      "Epoch 15/40\n",
      "3665177/3665177 [==============================] - 11s 3us/step - loss: 5.7538e-04 - mean_absolute_error: 0.0158 - val_loss: 5.7523e-04 - val_mean_absolute_error: 0.0158\n",
      "Epoch 16/40\n",
      "3665177/3665177 [==============================] - 11s 3us/step - loss: 5.7481e-04 - mean_absolute_error: 0.0158 - val_loss: 5.7419e-04 - val_mean_absolute_error: 0.0157\n",
      "Epoch 17/40\n",
      "3665177/3665177 [==============================] - 11s 3us/step - loss: 5.7415e-04 - mean_absolute_error: 0.0158 - val_loss: 5.7412e-04 - val_mean_absolute_error: 0.0157\n",
      "Epoch 18/40\n",
      "3665177/3665177 [==============================] - 11s 3us/step - loss: 5.7383e-04 - mean_absolute_error: 0.0158 - val_loss: 5.7378e-04 - val_mean_absolute_error: 0.0157\n",
      "Epoch 19/40\n",
      "3665177/3665177 [==============================] - 11s 3us/step - loss: 5.7352e-04 - mean_absolute_error: 0.0158 - val_loss: 5.7388e-04 - val_mean_absolute_error: 0.0157\n",
      "Epoch 20/40\n",
      "3665177/3665177 [==============================] - 11s 3us/step - loss: 5.7335e-04 - mean_absolute_error: 0.0158 - val_loss: 5.7333e-04 - val_mean_absolute_error: 0.0157\n",
      "Epoch 21/40\n",
      "3665177/3665177 [==============================] - 11s 3us/step - loss: 5.7294e-04 - mean_absolute_error: 0.0158 - val_loss: 5.7314e-04 - val_mean_absolute_error: 0.0157\n",
      "Epoch 22/40\n",
      "3665177/3665177 [==============================] - 11s 3us/step - loss: 5.7277e-04 - mean_absolute_error: 0.0158 - val_loss: 5.7352e-04 - val_mean_absolute_error: 0.0157\n",
      "Epoch 23/40\n",
      "3665177/3665177 [==============================] - 11s 3us/step - loss: 5.7284e-04 - mean_absolute_error: 0.0158 - val_loss: 5.7440e-04 - val_mean_absolute_error: 0.0158\n",
      "Epoch 24/40\n",
      "3665177/3665177 [==============================] - 11s 3us/step - loss: 5.7286e-04 - mean_absolute_error: 0.0158 - val_loss: 5.7290e-04 - val_mean_absolute_error: 0.0157\n",
      "Epoch 25/40\n",
      "3665177/3665177 [==============================] - 11s 3us/step - loss: 5.7239e-04 - mean_absolute_error: 0.0158 - val_loss: 5.7296e-04 - val_mean_absolute_error: 0.0157\n",
      "Epoch 26/40\n",
      "3665177/3665177 [==============================] - 11s 3us/step - loss: 5.7233e-04 - mean_absolute_error: 0.0158 - val_loss: 5.7300e-04 - val_mean_absolute_error: 0.0157\n",
      "Epoch 27/40\n",
      "3665177/3665177 [==============================] - 11s 3us/step - loss: 5.7221e-04 - mean_absolute_error: 0.0158 - val_loss: 5.7285e-04 - val_mean_absolute_error: 0.0157\n",
      "Epoch 28/40\n",
      "3665177/3665177 [==============================] - 11s 3us/step - loss: 5.7213e-04 - mean_absolute_error: 0.0157 - val_loss: 5.7274e-04 - val_mean_absolute_error: 0.0157\n",
      "Epoch 29/40\n",
      "3665177/3665177 [==============================] - 11s 3us/step - loss: 5.7204e-04 - mean_absolute_error: 0.0157 - val_loss: 5.7293e-04 - val_mean_absolute_error: 0.0157\n",
      "Epoch 30/40\n",
      "3665177/3665177 [==============================] - 11s 3us/step - loss: 5.7219e-04 - mean_absolute_error: 0.0158 - val_loss: 5.7307e-04 - val_mean_absolute_error: 0.0157\n",
      "Epoch 31/40\n",
      "3665177/3665177 [==============================] - 11s 3us/step - loss: 5.7211e-04 - mean_absolute_error: 0.0158 - val_loss: 5.7276e-04 - val_mean_absolute_error: 0.0157\n",
      "Epoch 32/40\n",
      "3665177/3665177 [==============================] - 11s 3us/step - loss: 5.7195e-04 - mean_absolute_error: 0.0157 - val_loss: 5.7290e-04 - val_mean_absolute_error: 0.0157\n",
      "Epoch 33/40\n",
      "3665177/3665177 [==============================] - 11s 3us/step - loss: 5.7198e-04 - mean_absolute_error: 0.0157 - val_loss: 5.7270e-04 - val_mean_absolute_error: 0.0157\n",
      "Epoch 34/40\n",
      "3665177/3665177 [==============================] - 11s 3us/step - loss: 5.7196e-04 - mean_absolute_error: 0.0157 - val_loss: 5.7272e-04 - val_mean_absolute_error: 0.0157\n",
      "Epoch 35/40\n",
      "3665177/3665177 [==============================] - 11s 3us/step - loss: 5.7186e-04 - mean_absolute_error: 0.0157 - val_loss: 5.7261e-04 - val_mean_absolute_error: 0.0157\n",
      "Epoch 36/40\n",
      "3665177/3665177 [==============================] - 11s 3us/step - loss: 5.7181e-04 - mean_absolute_error: 0.0157 - val_loss: 5.7267e-04 - val_mean_absolute_error: 0.0157\n",
      "Epoch 37/40\n",
      "3665177/3665177 [==============================] - 12s 3us/step - loss: 5.7184e-04 - mean_absolute_error: 0.0157 - val_loss: 5.7270e-04 - val_mean_absolute_error: 0.0157\n",
      "Epoch 38/40\n",
      "3665177/3665177 [==============================] - 12s 3us/step - loss: 5.7174e-04 - mean_absolute_error: 0.0157 - val_loss: 5.7272e-04 - val_mean_absolute_error: 0.0157\n",
      "Epoch 39/40\n",
      "3665177/3665177 [==============================] - 12s 3us/step - loss: 5.7173e-04 - mean_absolute_error: 0.0157 - val_loss: 5.7258e-04 - val_mean_absolute_error: 0.0157\n",
      "Epoch 40/40\n",
      "3665177/3665177 [==============================] - 11s 3us/step - loss: 5.7192e-04 - mean_absolute_error: 0.0158 - val_loss: 5.7293e-04 - val_mean_absolute_error: 0.0157\n"
     ]
    }
   ],
   "source": [
    "#Fit model with Regression data with tensorboard callback\n",
    "tb = k.callbacks.EarlyStopping(monitor='val_loss',  patience=5, verbose=1, restore_best_weights=True)\n",
    "history = model.fit(X_train_act,Y_train_act,batch_size=200000,epochs=40,verbose = 1, validation_data=(X_test_act,Y_test_act), callbacks=[tb])"
   ]
  },
  {
   "cell_type": "code",
   "execution_count": 50,
   "metadata": {},
   "outputs": [
    {
     "data": {
      "image/png": "[encoded data removed]",
      "text/plain": [
       "<matplotlib.figure.Figure at 0x7f945ca0cb00>"
      ]
     },
     "metadata": {},
     "output_type": "display_data"
    }
   ],
   "source": [
    "# summarize history for loss\n",
    "plt.plot(history.history['loss'])\n",
    "plt.plot(history.history['val_loss'])\n",
    "plt.title('model loss')\n",
    "plt.ylabel('loss')\n",
    "plt.xlabel('epoch')\n",
    "plt.ylim(0,0.005)\n",
    "plt.grid()\n",
    "plt.legend(['train', 'test'], loc='upper left')\n",
    "plt.savefig('ANN-NORMALIZE')\n",
    "plt.show()"
   ]
  },
  {
   "cell_type": "markdown",
   "metadata": {
    "collapsed": true
   },
   "source": []
  },
  {
   "cell_type": "code",
   "execution_count": null,
   "metadata": {
    "collapsed": true
   },
   "outputs": [],
   "source": []
  },
  {
   "cell_type": "code",
   "execution_count": null,
   "metadata": {
    "collapsed": true
   },
   "outputs": [],
   "source": []
  },
  {
   "cell_type": "code",
   "execution_count": null,
   "metadata": {
    "collapsed": true
   },
   "outputs": [],
   "source": []
  },
  {
   "cell_type": "code",
   "execution_count": null,
   "metadata": {
    "collapsed": true
   },
   "outputs": [],
   "source": [
    "\n"
   ]
  },
  {
   "cell_type": "code",
   "execution_count": null,
   "metadata": {
    "collapsed": true
   },
   "outputs": [],
   "source": []
  },
  {
   "cell_type": "code",
   "execution_count": null,
   "metadata": {
    "collapsed": true
   },
   "outputs": [],
   "source": []
  },
  {
   "cell_type": "code",
   "execution_count": null,
   "metadata": {
    "collapsed": true
   },
   "outputs": [],
   "source": []
  },
  {
   "cell_type": "code",
   "execution_count": null,
   "metadata": {
    "collapsed": true
   },
   "outputs": [],
   "source": []
  },
  {
   "cell_type": "code",
   "execution_count": null,
   "metadata": {
    "collapsed": true
   },
   "outputs": [],
   "source": []
  },
  {
   "cell_type": "code",
   "execution_count": null,
   "metadata": {
    "collapsed": true
   },
   "outputs": [],
   "source": []
  },
  {
   "cell_type": "code",
   "execution_count": null,
   "metadata": {
    "collapsed": true
   },
   "outputs": [],
   "source": []
  },
  {
   "cell_type": "code",
   "execution_count": null,
   "metadata": {
    "collapsed": true
   },
   "outputs": [],
   "source": []
  },
  {
   "cell_type": "code",
   "execution_count": null,
   "metadata": {
    "collapsed": true
   },
   "outputs": [],
   "source": []
  },
  {
   "cell_type": "code",
   "execution_count": null,
   "metadata": {
    "collapsed": true
   },
   "outputs": [],
   "source": []
  },
  {
   "cell_type": "code",
   "execution_count": null,
   "metadata": {
    "collapsed": true
   },
   "outputs": [],
   "source": []
  },
  {
   "cell_type": "code",
   "execution_count": null,
   "metadata": {
    "collapsed": true
   },
   "outputs": [],
   "source": []
  },
  {
   "cell_type": "code",
   "execution_count": null,
   "metadata": {
    "collapsed": true
   },
   "outputs": [],
   "source": []
  },
  {
   "cell_type": "code",
   "execution_count": null,
   "metadata": {
    "collapsed": true
   },
   "outputs": [],
   "source": []
  }
 ],
 "metadata": {
  "kernelspec": {
   "display_name": "Python 3",
   "language": "python",
   "name": "python3"
  },
  "language_info": {
   "codemirror_mode": {
    "name": "ipython",
    "version": 3
   },
   "file_extension": ".py",
   "mimetype": "text/x-python",
   "name": "python",
   "nbconvert_exporter": "python",
   "pygments_lexer": "ipython3",
   "version": "3.6.3"
  }
 },
 "nbformat": 4,
 "nbformat_minor": 2
}
