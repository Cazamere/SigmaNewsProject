{
 "cells": [
  {
   "cell_type": "code",
   "execution_count": 1,
   "metadata": {},
   "outputs": [
    {
     "name": "stderr",
     "output_type": "stream",
     "text": [
      "Using TensorFlow backend.\n"
     ]
    }
   ],
   "source": [
    "#Import libraries\n",
    "import keras as k\n",
    "import numpy as np\n",
    "import pandas as pd\n",
    "import pickle\n",
    "import tensorflow as tf\n",
    "import matplotlib.pyplot as plt"
   ]
  },
  {
   "cell_type": "code",
   "execution_count": 2,
   "metadata": {
    "collapsed": true
   },
   "outputs": [],
   "source": [
    "#Load market data\n",
    "market_train_df = pickle.load( open( \"Market_train\", \"rb\" ) )"
   ]
  },
  {
   "cell_type": "code",
   "execution_count": 3,
   "metadata": {
    "collapsed": true
   },
   "outputs": [],
   "source": [
    "#Load news data\n",
    "news_train_df = pickle.load(open(\"News_train-002\", \"rb\"))"
   ]
  },
  {
   "cell_type": "markdown",
   "metadata": {},
   "source": [
    "# Preprocessing\n",
    "\n",
    "### 1. General Preprocessing done for every model\n",
    "\n",
    "### 2. Extract assetCode and convert to integer labels\n",
    "\n",
    "### 3. Extra 7 features for Model\n",
    "\n",
    "### 4. Labels for Regression are : \n",
    "-  Original Features \n",
    "-  Normalized Features \n",
    "\n",
    "### 5. One hot encoded the Regression labels for binary classification using a threshold based on return value\n",
    "\n"
   ]
  },
  {
   "cell_type": "code",
   "execution_count": 4,
   "metadata": {
    "collapsed": true
   },
   "outputs": [],
   "source": [
    "#Preprocess( NO change to asset)\n",
    "def preprocess_data(mkt_train_df, news_train_df):\n",
    "    mkt_train_df['time'] = mkt_train_df['time'].dt.date\n",
    "    news_train_df['time'] = news_train_df['time'].dt.date\n",
    "    assetCodes = []\n",
    "    index = 0\n",
    "    for x in news_train_df['assetCodes']:\n",
    "        x = x.split(',')[0].split(\"'\")[1]\n",
    "        assetCodes.append(x)\n",
    "    news_train_df['assetCode'] = np.asarray(assetCodes)\n",
    "    irrelevantColumns = ['sourceTimestamp', 'firstCreated', 'sourceId', \n",
    "                         'headline', 'provider', 'subjects', 'audiences',\n",
    "                        'headlineTag', 'marketCommentary', 'assetCodes', 'assetName']\n",
    "    news_train_df.drop(irrelevantColumns, axis=1, inplace=True)\n",
    "    market_train_df.drop(['assetName'], axis=1, inplace=True)\n",
    "    modifiednews = news_train_df.groupby(['time','assetCode'], sort=False).aggregate(np.mean).reset_index()\n",
    "    \n",
    "    # join news reports to market data, note many assets will have many days without news data\n",
    "    merged = pd.merge(mkt_train_df, modifiednews, how='left', on=['time', 'assetCode'], copy=False) \n",
    "    merged = merged.fillna(0)\n",
    "    merged.drop(['time'], axis=1,inplace= True)\n",
    "     \n",
    "    return merged"
   ]
  },
  {
   "cell_type": "code",
   "execution_count": 5,
   "metadata": {
    "collapsed": true
   },
   "outputs": [],
   "source": [
    "#Preprocess data\n",
    "X = preprocess_data(market_train_df, news_train_df)"
   ]
  },
  {
   "cell_type": "code",
   "execution_count": 6,
   "metadata": {
    "collapsed": true
   },
   "outputs": [],
   "source": [
    "#Save some memory\n",
    "del market_train_df, news_train_df"
   ]
  },
  {
   "cell_type": "code",
   "execution_count": 7,
   "metadata": {
    "collapsed": true
   },
   "outputs": [],
   "source": [
    "#Get labels and drop that label from X\n",
    "Y = X['returnsOpenNextMktres10']\n",
    "X.drop(['returnsOpenNextMktres10'], axis=1, inplace=True)"
   ]
  },
  {
   "cell_type": "code",
   "execution_count": 8,
   "metadata": {
    "collapsed": true
   },
   "outputs": [],
   "source": [
    "#Asset code manipulation\n",
    "ac = X.assetCode\n",
    "ac = pd.get_dummies(ac)"
   ]
  },
  {
   "cell_type": "code",
   "execution_count": 9,
   "metadata": {
    "collapsed": true
   },
   "outputs": [],
   "source": [
    "#Convert ac to labels\n",
    "ac = ac.values\n",
    "ac = np.argmax(ac, axis =1)"
   ]
  },
  {
   "cell_type": "code",
   "execution_count": 10,
   "metadata": {
    "collapsed": true
   },
   "outputs": [],
   "source": [
    "#convert array to pandas dataframe\n",
    "ac = pd.DataFrame(ac, columns = ['assetCode'])"
   ]
  },
  {
   "cell_type": "code",
   "execution_count": 11,
   "metadata": {
    "collapsed": true
   },
   "outputs": [],
   "source": [
    "#Get all cols \n",
    "cols = X.columns\n",
    "all_feat = cols[2:]"
   ]
  },
  {
   "cell_type": "code",
   "execution_count": 12,
   "metadata": {},
   "outputs": [
    {
     "name": "stdout",
     "output_type": "stream",
     "text": [
      "\n",
      "   assetCode  close   open  sentimentClass  sentimentNegative  \\\n",
      "0          0  32.19  32.17            0.50           0.080418   \n",
      "1          2  11.12  11.08            0.25           0.138128   \n",
      "2          7  37.51  37.99            0.00           0.000000   \n",
      "3          8  84.74  86.23            0.00           0.000000   \n",
      "4         15  18.02  18.01            0.00           0.000000   \n",
      "\n",
      "   sentimentNeutral  sentimentPositive  returnsOpenNextMktres10  \n",
      "0          0.568264           0.351318                 0.034672  \n",
      "1          0.412758           0.449114                 0.027803  \n",
      "2          0.000000           0.000000                 0.024433  \n",
      "3          0.000000           0.000000                -0.007425  \n",
      "4          0.000000           0.000000                -0.017994  \n"
     ]
    }
   ],
   "source": [
    "#Get features, concat with labels and fill na values with 0s\n",
    "X_new = X[['close','open','sentimentClass','sentimentNegative','sentimentNeutral','sentimentPositive']]\n",
    "X_new = pd.concat((ac,X_new,Y), axis = 1)\n",
    "X_new.fillna(0)\n",
    "print('')\n",
    "print(X_new.head())"
   ]
  },
  {
   "cell_type": "code",
   "execution_count": 13,
   "metadata": {
    "collapsed": true
   },
   "outputs": [],
   "source": [
    "#make a copy of full data-set\n",
    "df_stock =X_new"
   ]
  },
  {
   "cell_type": "code",
   "execution_count": 14,
   "metadata": {
    "collapsed": true
   },
   "outputs": [],
   "source": [
    "##### Remove outliers\n",
    "a = df_stock[df_stock.returnsOpenNextMktres10<1.5]\n",
    "a = a[a.returnsOpenNextMktres10>-1.5]"
   ]
  },
  {
   "cell_type": "code",
   "execution_count": 15,
   "metadata": {
    "collapsed": true
   },
   "outputs": [],
   "source": [
    "#Def normalize if we want to normalize\n",
    "def normalize(Y):\n",
    "    max_v = Y.max()\n",
    "    min_v = Y.min()\n",
    "    Y = Y - min_v\n",
    "    denom = max_v - min_v\n",
    "    Y = Y/denom\n",
    "    return Y"
   ]
  },
  {
   "cell_type": "code",
   "execution_count": 16,
   "metadata": {},
   "outputs": [
    {
     "data": {
      "text/html": [
       "<div>\n",
       "<style scoped>\n",
       "    .dataframe tbody tr th:only-of-type {\n",
       "        vertical-align: middle;\n",
       "    }\n",
       "\n",
       "    .dataframe tbody tr th {\n",
       "        vertical-align: top;\n",
       "    }\n",
       "\n",
       "    .dataframe thead th {\n",
       "        text-align: right;\n",
       "    }\n",
       "</style>\n",
       "<table border=\"1\" class=\"dataframe\">\n",
       "  <thead>\n",
       "    <tr style=\"text-align: right;\">\n",
       "      <th></th>\n",
       "      <th>assetCode</th>\n",
       "      <th>close</th>\n",
       "      <th>open</th>\n",
       "      <th>sentimentClass</th>\n",
       "      <th>sentimentNegative</th>\n",
       "      <th>sentimentNeutral</th>\n",
       "      <th>sentimentPositive</th>\n",
       "    </tr>\n",
       "  </thead>\n",
       "  <tbody>\n",
       "    <tr>\n",
       "      <th>0</th>\n",
       "      <td>0</td>\n",
       "      <td>32.19</td>\n",
       "      <td>32.17</td>\n",
       "      <td>0.50</td>\n",
       "      <td>0.080418</td>\n",
       "      <td>0.568264</td>\n",
       "      <td>0.351318</td>\n",
       "    </tr>\n",
       "    <tr>\n",
       "      <th>1</th>\n",
       "      <td>2</td>\n",
       "      <td>11.12</td>\n",
       "      <td>11.08</td>\n",
       "      <td>0.25</td>\n",
       "      <td>0.138128</td>\n",
       "      <td>0.412758</td>\n",
       "      <td>0.449114</td>\n",
       "    </tr>\n",
       "    <tr>\n",
       "      <th>2</th>\n",
       "      <td>7</td>\n",
       "      <td>37.51</td>\n",
       "      <td>37.99</td>\n",
       "      <td>0.00</td>\n",
       "      <td>0.000000</td>\n",
       "      <td>0.000000</td>\n",
       "      <td>0.000000</td>\n",
       "    </tr>\n",
       "    <tr>\n",
       "      <th>3</th>\n",
       "      <td>8</td>\n",
       "      <td>84.74</td>\n",
       "      <td>86.23</td>\n",
       "      <td>0.00</td>\n",
       "      <td>0.000000</td>\n",
       "      <td>0.000000</td>\n",
       "      <td>0.000000</td>\n",
       "    </tr>\n",
       "    <tr>\n",
       "      <th>4</th>\n",
       "      <td>15</td>\n",
       "      <td>18.02</td>\n",
       "      <td>18.01</td>\n",
       "      <td>0.00</td>\n",
       "      <td>0.000000</td>\n",
       "      <td>0.000000</td>\n",
       "      <td>0.000000</td>\n",
       "    </tr>\n",
       "  </tbody>\n",
       "</table>\n",
       "</div>"
      ],
      "text/plain": [
       "   assetCode  close   open  sentimentClass  sentimentNegative  \\\n",
       "0          0  32.19  32.17            0.50           0.080418   \n",
       "1          2  11.12  11.08            0.25           0.138128   \n",
       "2          7  37.51  37.99            0.00           0.000000   \n",
       "3          8  84.74  86.23            0.00           0.000000   \n",
       "4         15  18.02  18.01            0.00           0.000000   \n",
       "\n",
       "   sentimentNeutral  sentimentPositive  \n",
       "0          0.568264           0.351318  \n",
       "1          0.412758           0.449114  \n",
       "2          0.000000           0.000000  \n",
       "3          0.000000           0.000000  \n",
       "4          0.000000           0.000000  "
      ]
     },
     "execution_count": 16,
     "metadata": {},
     "output_type": "execute_result"
    }
   ],
   "source": [
    "#select features and label\n",
    "X = a.iloc[:,0:-1]\n",
    "Y = a.iloc[:,-1]\n",
    "X.head()"
   ]
  },
  {
   "cell_type": "code",
   "execution_count": 17,
   "metadata": {
    "collapsed": true
   },
   "outputs": [],
   "source": [
    "#Get original values and normalize Y\n",
    "Y_actual = Y.copy()\n",
    "Y_norm = normalize(Y_actual)"
   ]
  },
  {
   "cell_type": "code",
   "execution_count": 18,
   "metadata": {
    "collapsed": true
   },
   "outputs": [],
   "source": [
    "#Convert to numpy\n",
    "X = X.values\n",
    "Y = Y.values"
   ]
  },
  {
   "cell_type": "code",
   "execution_count": 162,
   "metadata": {},
   "outputs": [],
   "source": [
    "#Convert to binary encodings\n",
    "Y[Y>0] = 1\n",
    "Y[Y<0] = 0"
   ]
  },
  {
   "cell_type": "code",
   "execution_count": 165,
   "metadata": {
    "collapsed": true
   },
   "outputs": [],
   "source": [
    "from sklearn.model_selection import train_test_split"
   ]
  },
  {
   "cell_type": "markdown",
   "metadata": {},
   "source": [
    "# Regression model without normalized labels"
   ]
  },
  {
   "cell_type": "code",
   "execution_count": 189,
   "metadata": {
    "collapsed": true
   },
   "outputs": [],
   "source": [
    "#Split data for regression without labels normalized(Distribution is between -1 and 1)\n",
    "X_train_act, X_test_act, Y_train_act, Y_test_act = train_test_split(X, Y_actual, test_size=0.1, random_state=42)"
   ]
  },
  {
   "cell_type": "code",
   "execution_count": 198,
   "metadata": {
    "collapsed": true
   },
   "outputs": [],
   "source": [
    "#define model for regression without normalizing labels\n",
    "def build_model(lre):\n",
    "    model = k.Sequential()\n",
    "    model.add(k.layers.Dense(units=128, activation='relu',input_dim = 7))\n",
    "    model.add(k.layers.Dense(units = 1024, activation = 'relu'))\n",
    "    model.add(k.layers.Dense(units = 2058, activation = 'relu'))\n",
    "    model.add(k.layers.Dense(units = 1024, activation = 'sigmoid'))\n",
    "    model.add(k.layers.Dense(units = 1, activation = 'linear'))\n",
    "    adam_o = k.optimizers.Adamax(lr=lre)\n",
    "    rms = k.optimizers.RMSprop(lr=lre)\n",
    "    model.compile(optimizer = rms, loss = 'mean_squared_error', metrics=['mae'])\n",
    "    model.summary()\n",
    "    return model"
   ]
  },
  {
   "cell_type": "code",
   "execution_count": 191,
   "metadata": {},
   "outputs": [
    {
     "name": "stdout",
     "output_type": "stream",
     "text": [
      "_________________________________________________________________\n",
      "Layer (type)                 Output Shape              Param #   \n",
      "=================================================================\n",
      "dense_112 (Dense)            (None, 128)               1024      \n",
      "_________________________________________________________________\n",
      "dense_113 (Dense)            (None, 1024)              132096    \n",
      "_________________________________________________________________\n",
      "dense_114 (Dense)            (None, 2058)              2109450   \n",
      "_________________________________________________________________\n",
      "dense_115 (Dense)            (None, 1024)              2108416   \n",
      "_________________________________________________________________\n",
      "dense_116 (Dense)            (None, 1)                 1025      \n",
      "=================================================================\n",
      "Total params: 4,352,011\n",
      "Trainable params: 4,352,011\n",
      "Non-trainable params: 0\n",
      "_________________________________________________________________\n"
     ]
    }
   ],
   "source": [
    "model = build_model(0.001)"
   ]
  },
  {
   "cell_type": "code",
   "execution_count": 192,
   "metadata": {},
   "outputs": [
    {
     "name": "stdout",
     "output_type": "stream",
     "text": [
      "Train on 3665177 samples, validate on 407242 samples\n",
      "Epoch 1/10\n",
      "3665177/3665177 [==============================] - 12s 3us/step - loss: 34.3075 - mean_absolute_error: 2.3760 - val_loss: 0.0049 - val_mean_absolute_error: 0.0461\n",
      "Epoch 2/10\n",
      "3665177/3665177 [==============================] - 12s 3us/step - loss: 0.0049 - mean_absolute_error: 0.0461 - val_loss: 0.0049 - val_mean_absolute_error: 0.0460\n",
      "Epoch 3/10\n",
      "3665177/3665177 [==============================] - 12s 3us/step - loss: 0.0049 - mean_absolute_error: 0.0463 - val_loss: 0.0060 - val_mean_absolute_error: 0.0558\n",
      "Epoch 4/10\n",
      "3665177/3665177 [==============================] - 12s 3us/step - loss: 0.0516 - mean_absolute_error: 0.1998 - val_loss: 0.1063 - val_mean_absolute_error: 0.3187\n",
      "Epoch 5/10\n",
      "3665177/3665177 [==============================] - 12s 3us/step - loss: 0.0666 - mean_absolute_error: 0.2466 - val_loss: 0.0533 - val_mean_absolute_error: 0.2217\n",
      "Epoch 6/10\n",
      "3665177/3665177 [==============================] - 11s 3us/step - loss: 0.0616 - mean_absolute_error: 0.2387 - val_loss: 0.0638 - val_mean_absolute_error: 0.2435\n",
      "Epoch 7/10\n",
      "3665177/3665177 [==============================] - 12s 3us/step - loss: 0.0642 - mean_absolute_error: 0.2446 - val_loss: 0.0643 - val_mean_absolute_error: 0.2450\n",
      "Epoch 8/10\n",
      "3665177/3665177 [==============================] - 11s 3us/step - loss: 0.0633 - mean_absolute_error: 0.2426 - val_loss: 0.0631 - val_mean_absolute_error: 0.2420\n",
      "Epoch 9/10\n",
      "3665177/3665177 [==============================] - 11s 3us/step - loss: 0.0635 - mean_absolute_error: 0.2430 - val_loss: 0.0636 - val_mean_absolute_error: 0.2437\n",
      "Epoch 10/10\n",
      "3665177/3665177 [==============================] - 11s 3us/step - loss: 0.0634 - mean_absolute_error: 0.2430 - val_loss: 0.0636 - val_mean_absolute_error: 0.2430\n"
     ]
    }
   ],
   "source": [
    "#Fit model with Regression data with tensorboard callback\n",
    "tb = k.callbacks.TensorBoard(log_dir='./ANNREG', batch_size=200000, write_graph=True, update_freq='epoch')\n",
    "history = model.fit(X_train_act,Y_train_act,batch_size=200000,epochs=10,verbose = 1, validation_data=(X_test_act,Y_test_act), callbacks=[tb])"
   ]
  },
  {
   "cell_type": "code",
   "execution_count": 196,
   "metadata": {},
   "outputs": [
    {
     "data": {
      "image/png": "[encoded data removed]",
      "text/plain": [
       "<matplotlib.figure.Figure at 0x7f954ad592b0>"
      ]
     },
     "metadata": {},
     "output_type": "display_data"
    }
   ],
   "source": [
    "# summarize history for loss\n",
    "plt.plot(history.history['loss'])\n",
    "plt.plot(history.history['val_loss'])\n",
    "plt.title('model loss')\n",
    "plt.ylim(0,3)\n",
    "plt.ylabel('loss')\n",
    "plt.xlabel('epoch')\n",
    "plt.grid()\n",
    "plt.legend(['train', 'test'], loc='upper left')\n",
    "plt.savefig('ANN-NONORMALIZE')\n",
    "plt.show()"
   ]
  },
  {
   "cell_type": "markdown",
   "metadata": {
    "collapsed": true
   },
   "source": [
    "# Regression model with normalized labels"
   ]
  },
  {
   "cell_type": "code",
   "execution_count": 197,
   "metadata": {
    "collapsed": true
   },
   "outputs": [],
   "source": [
    "#Split into train test\n",
    "X_train_act, X_test_act, Y_train_act, Y_test_act = train_test_split(X, Y_norm, test_size=0.1, random_state=42)"
   ]
  },
  {
   "cell_type": "code",
   "execution_count": 203,
   "metadata": {},
   "outputs": [
    {
     "name": "stdout",
     "output_type": "stream",
     "text": [
      "_________________________________________________________________\n",
      "Layer (type)                 Output Shape              Param #   \n",
      "=================================================================\n",
      "dense_122 (Dense)            (None, 128)               1024      \n",
      "_________________________________________________________________\n",
      "dense_123 (Dense)            (None, 1024)              132096    \n",
      "_________________________________________________________________\n",
      "dense_124 (Dense)            (None, 2058)              2109450   \n",
      "_________________________________________________________________\n",
      "dense_125 (Dense)            (None, 1024)              2108416   \n",
      "_________________________________________________________________\n",
      "dense_126 (Dense)            (None, 1)                 1025      \n",
      "=================================================================\n",
      "Total params: 4,352,011\n",
      "Trainable params: 4,352,011\n",
      "Non-trainable params: 0\n",
      "_________________________________________________________________\n"
     ]
    }
   ],
   "source": [
    "#\n",
    "model = build_model(0.001)"
   ]
  },
  {
   "cell_type": "code",
   "execution_count": null,
   "metadata": {},
   "outputs": [
    {
     "name": "stdout",
     "output_type": "stream",
     "text": [
      "Train on 3665177 samples, validate on 407242 samples\n",
      "Epoch 1/30\n",
      " 600000/3665177 [===>..........................] - ETA: 16s - loss: 198.3249 - mean_absolute_error: 11.6867"
     ]
    }
   ],
   "source": [
    "#Fit model with Regression data with tensorboard callback\n",
    "tb = k.callbacks.EarlyStopping(monitor='val_loss',  patience=5, verbose=1, restore_best_weights=True)\n",
    "history = model.fit(X_train_act,Y_train_act,batch_size=200000,epochs=30,verbose = 1, validation_data=(X_test_act,Y_test_act), callbacks=[tb])"
   ]
  },
  {
   "cell_type": "code",
   "execution_count": null,
   "metadata": {
    "collapsed": true
   },
   "outputs": [],
   "source": [
    "# summarize history for loss\n",
    "plt.plot(history.history['loss'])\n",
    "plt.plot(history.history['val_loss'])\n",
    "plt.title('model loss')\n",
    "plt.ylabel('loss')\n",
    "plt.xlabel('epoch')\n",
    "plt.legend(['train', 'test'], loc='upper left')\n",
    "plt.show()"
   ]
  },
  {
   "cell_type": "markdown",
   "metadata": {
    "collapsed": true
   },
   "source": []
  },
  {
   "cell_type": "code",
   "execution_count": null,
   "metadata": {},
   "outputs": [],
   "source": []
  },
  {
   "cell_type": "code",
   "execution_count": null,
   "metadata": {
    "collapsed": true
   },
   "outputs": [],
   "source": []
  },
  {
   "cell_type": "code",
   "execution_count": null,
   "metadata": {},
   "outputs": [],
   "source": []
  },
  {
   "cell_type": "code",
   "execution_count": null,
   "metadata": {},
   "outputs": [],
   "source": [
    "\n"
   ]
  },
  {
   "cell_type": "code",
   "execution_count": null,
   "metadata": {},
   "outputs": [],
   "source": []
  },
  {
   "cell_type": "code",
   "execution_count": null,
   "metadata": {},
   "outputs": [],
   "source": []
  },
  {
   "cell_type": "code",
   "execution_count": null,
   "metadata": {},
   "outputs": [],
   "source": []
  },
  {
   "cell_type": "code",
   "execution_count": null,
   "metadata": {},
   "outputs": [],
   "source": []
  },
  {
   "cell_type": "code",
   "execution_count": null,
   "metadata": {
    "collapsed": true
   },
   "outputs": [],
   "source": []
  },
  {
   "cell_type": "code",
   "execution_count": null,
   "metadata": {
    "collapsed": true
   },
   "outputs": [],
   "source": []
  },
  {
   "cell_type": "code",
   "execution_count": null,
   "metadata": {
    "collapsed": true
   },
   "outputs": [],
   "source": []
  },
  {
   "cell_type": "code",
   "execution_count": null,
   "metadata": {
    "collapsed": true
   },
   "outputs": [],
   "source": []
  },
  {
   "cell_type": "code",
   "execution_count": null,
   "metadata": {
    "collapsed": true
   },
   "outputs": [],
   "source": []
  },
  {
   "cell_type": "code",
   "execution_count": null,
   "metadata": {
    "collapsed": true
   },
   "outputs": [],
   "source": []
  },
  {
   "cell_type": "code",
   "execution_count": null,
   "metadata": {
    "collapsed": true
   },
   "outputs": [],
   "source": []
  },
  {
   "cell_type": "code",
   "execution_count": null,
   "metadata": {
    "collapsed": true
   },
   "outputs": [],
   "source": []
  },
  {
   "cell_type": "code",
   "execution_count": null,
   "metadata": {
    "collapsed": true
   },
   "outputs": [],
   "source": []
  },
  {
   "cell_type": "code",
   "execution_count": null,
   "metadata": {
    "collapsed": true
   },
   "outputs": [],
   "source": []
  }
 ],
 "metadata": {
  "kernelspec": {
   "display_name": "Python 3",
   "language": "python",
   "name": "python3"
  },
  "language_info": {
   "codemirror_mode": {
    "name": "ipython",
    "version": 3
   },
   "file_extension": ".py",
   "mimetype": "text/x-python",
   "name": "python",
   "nbconvert_exporter": "python",
   "pygments_lexer": "ipython3",
   "version": "3.6.3"
  }
 },
 "nbformat": 4,
 "nbformat_minor": 2
}
