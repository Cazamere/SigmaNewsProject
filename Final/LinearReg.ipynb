{
 "cells": [
  {
   "cell_type": "code",
   "execution_count": 10,
   "metadata": {},
   "outputs": [],
   "source": [
    "import numpy as np # linear algebra\n",
    "import pandas as pd # data processing, CSV file I/O (e.g. pd.read_csv)\n",
    "import tensorflow as tf\n",
    "from tensorflow import keras\n",
    "from sklearn.preprocessing import normalize\n",
    "import matplotlib.pyplot as plt\n",
    "import pickle\n",
    "from tensorflow.keras.models import load_model"
   ]
  },
  {
   "cell_type": "code",
   "execution_count": 11,
   "metadata": {},
   "outputs": [],
   "source": [
    "def loadDataFiles():\n",
    "    market_df = pickle.load(open('Market_train',\"rb\"))\n",
    "    news_df = pickle.load(open(\"News_train\", \"rb\"))\n",
    "    print('Finished loading datafiles!')\n",
    "    return market_df, news_df\n"
   ]
  },
  {
   "cell_type": "code",
   "execution_count": 12,
   "metadata": {},
   "outputs": [],
   "source": [
    "def preprocess_data(mkt_df, news_df):\n",
    "    mkt_df['time'] = pd.to_datetime(mkt_df['time'])\n",
    "    news_df['time'] = pd.to_datetime(news_df['time'])\n",
    "    mkt_df['time'] = mkt_df['time'].dt.date\n",
    "    news_df['time'] = news_df['time'].dt.date\n",
    "    assetCodes = []\n",
    "    index = 0\n",
    "    for x in news_df['assetCodes']:\n",
    "        x = x.split(',')[0].split(\"'\")[1]\n",
    "        assetCodes.append(x)\n",
    "    news_df['assetCode'] = np.asarray(assetCodes)\n",
    "    irrelevantColumns = ['sourceTimestamp', 'firstCreated', 'sourceId', \n",
    "                         'headline', 'provider', 'subjects', 'audiences',\n",
    "                        'headlineTag', 'marketCommentary', 'assetCodes', 'assetName']\n",
    "    news_df.drop(irrelevantColumns, axis=1, inplace=True)\n",
    "    mkt_df.drop(['assetName'], axis=1, inplace=True)\n",
    "    modifiednews = news_df.groupby(['time','assetCode'], sort=False).aggregate(np.mean).reset_index()\n",
    "    \n",
    "    # join news reports to market data, note many assets will have many days without news data\n",
    "    merged = pd.merge(mkt_df, modifiednews, how='left', on=['time', 'assetCode'], copy=False) \n",
    "    merged = merged.fillna(0)\n",
    "    print('Finished preprocessing data!')\n",
    "    return merged\n"
   ]
  },
  {
   "cell_type": "code",
   "execution_count": 13,
   "metadata": {},
   "outputs": [
    {
     "name": "stdout",
     "output_type": "stream",
     "text": [
      "Finished loading datafiles!\n"
     ]
    }
   ],
   "source": [
    "market_data, news_data = loadDataFiles()\n"
   ]
  },
  {
   "cell_type": "code",
   "execution_count": 14,
   "metadata": {},
   "outputs": [
    {
     "name": "stdout",
     "output_type": "stream",
     "text": [
      "Finished preprocessing data!\n"
     ]
    }
   ],
   "source": [
    "X = preprocess_data(market_data, news_data)\n"
   ]
  },
  {
   "cell_type": "code",
   "execution_count": 15,
   "metadata": {},
   "outputs": [],
   "source": [
    "def normalizeY(ydf):\n",
    "    ydf = (ydf + 1) / 2\n",
    "    return ydf\n"
   ]
  },
  {
   "cell_type": "code",
   "execution_count": 16,
   "metadata": {},
   "outputs": [],
   "source": [
    "X = X[X['returnsOpenNextMktres10'] >= -1]\n",
    "X = X[X['returnsOpenNextMktres10'] <= 1]\n",
    "\n",
    "y = X['returnsOpenNextMktres10']\n",
    "\n",
    "X.drop(['returnsOpenNextMktres10'], axis=1, inplace=True)\n",
    "y = normalizeY(y)\n",
    "assetCodesAndTime = X.iloc[:, :2]\n",
    "X = X.iloc[:, 2:]\n"
   ]
  },
  {
   "cell_type": "code",
   "execution_count": null,
   "metadata": {},
   "outputs": [],
   "source": [
    "def getLinearRegressionModel(numfeatures):\n",
    "    inputs = keras.layers.Input(shape=(numfeatures,))\n",
    "    preds = keras.layers.Dense(1,activation='linear')(inputs)\n",
    "    model = keras.Model(inputs=inputs,outputs=preds)\n",
    "    sgd=keras.optimizers.SGD(.1)\n",
    "    model.compile(optimizer=sgd ,loss='mean_absolute_error',metrics=['mae'])\n",
    "    return model\n"
   ]
  },
  {
   "cell_type": "code",
   "execution_count": null,
   "metadata": {},
   "outputs": [],
   "source": [
    "def regularize(df):\n",
    "    for column in df:\n",
    "        colmin = np.amin(df[column])\n",
    "        colmax = np.amax(df[column])\n",
    "        df[column] = (df[column] - colmin) / (colmax - colmin)\n",
    "    return df"
   ]
  },
  {
   "cell_type": "code",
   "execution_count": null,
   "metadata": {},
   "outputs": [],
   "source": [
    "X = regularize(X)"
   ]
  },
  {
   "cell_type": "code",
   "execution_count": null,
   "metadata": {},
   "outputs": [],
   "source": [
    "def saveModel(model, model_name):\n",
    "    model.save(model_name + '.h5')"
   ]
  },
  {
   "cell_type": "code",
   "execution_count": null,
   "metadata": {},
   "outputs": [],
   "source": [
    "def loadModel(filename):\n",
    "    model = load_model(filename)\n",
    "    return model"
   ]
  },
  {
   "cell_type": "code",
   "execution_count": null,
   "metadata": {},
   "outputs": [],
   "source": [
    "def modify_dataset(X, degree):\n",
    "    if degree == 0 or degree == 1:\n",
    "        return X\n",
    "    for x in range(degree - 1):\n",
    "        for column in X.columns.values:\n",
    "            newcol = column + '_' + str((x+2))\n",
    "            X[newcol] = X[column] ** (x + 2)\n",
    "    return X"
   ]
  },
  {
   "cell_type": "code",
   "execution_count": null,
   "metadata": {
    "scrolled": true
   },
   "outputs": [
    {
     "name": "stdout",
     "output_type": "stream",
     "text": [
      "Train on 2850542 samples, validate on 1221661 samples\n",
      "Epoch 1/10\n",
      "2850542/2850542 [==============================] - 7s 2us/step - loss: 0.5598 - mean_absolute_error: 0.5598 - val_loss: 0.1821 - val_mean_absolute_error: 0.1821\n",
      "Epoch 2/10\n",
      "2850542/2850542 [==============================] - 4s 2us/step - loss: 0.1272 - mean_absolute_error: 0.1272 - val_loss: 0.0802 - val_mean_absolute_error: 0.0802\n",
      "Epoch 3/10\n",
      "2850542/2850542 [==============================] - 5s 2us/step - loss: 0.0790 - mean_absolute_error: 0.0790 - val_loss: 0.0853 - val_mean_absolute_error: 0.0853\n",
      "Epoch 4/10\n",
      "2850542/2850542 [==============================] - 5s 2us/step - loss: 0.0885 - mean_absolute_error: 0.0885 - val_loss: 0.0693 - val_mean_absolute_error: 0.0693\n",
      "Epoch 5/10\n",
      "2850542/2850542 [==============================] - 5s 2us/step - loss: 0.0816 - mean_absolute_error: 0.0816 - val_loss: 0.1055 - val_mean_absolute_error: 0.1055\n",
      "Epoch 6/10\n",
      "2850542/2850542 [==============================] - 5s 2us/step - loss: 0.0926 - mean_absolute_error: 0.0926 - val_loss: 0.0673 - val_mean_absolute_error: 0.0673\n",
      "Epoch 7/10\n",
      "2850542/2850542 [==============================] - 5s 2us/step - loss: 0.0814 - mean_absolute_error: 0.0814 - val_loss: 0.1047 - val_mean_absolute_error: 0.1047\n",
      "Epoch 8/10\n",
      "2850542/2850542 [==============================] - 5s 2us/step - loss: 0.0923 - mean_absolute_error: 0.0923 - val_loss: 0.0700 - val_mean_absolute_error: 0.0700\n",
      "Epoch 9/10\n",
      "2850542/2850542 [==============================] - 5s 2us/step - loss: 0.0823 - mean_absolute_error: 0.0823 - val_loss: 0.1030 - val_mean_absolute_error: 0.1030\n",
      "Epoch 10/10\n",
      "2850542/2850542 [==============================] - 5s 2us/step - loss: 0.0919 - mean_absolute_error: 0.0919 - val_loss: 0.0723 - val_mean_absolute_error: 0.0723\n"
     ]
    },
    {
     "data": {
      "image/png": "[encoded data removed]",
      "text/plain": [
       "<Figure size 432x288 with 1 Axes>"
      ]
     },
     "metadata": {
      "needs_background": "light"
     },
     "output_type": "display_data"
    },
    {
     "name": "stdout",
     "output_type": "stream",
     "text": [
      "Train on 2850542 samples, validate on 1221661 samples\n",
      "Epoch 1/10\n",
      "2850542/2850542 [==============================] - 12s 4us/step - loss: 0.2714 - mean_absolute_error: 0.2714 - val_loss: 0.1550 - val_mean_absolute_error: 0.1550\n",
      "Epoch 2/10\n",
      "2850542/2850542 [==============================] - 11s 4us/step - loss: 0.1258 - mean_absolute_error: 0.1258 - val_loss: 0.1006 - val_mean_absolute_error: 0.1006\n",
      "Epoch 3/10\n",
      "2850542/2850542 [==============================] - 12s 4us/step - loss: 0.1042 - mean_absolute_error: 0.1042 - val_loss: 0.1011 - val_mean_absolute_error: 0.1011\n",
      "Epoch 4/10\n",
      "2850542/2850542 [==============================] - 22s 8us/step - loss: 0.1115 - mean_absolute_error: 0.1115 - val_loss: 0.1410 - val_mean_absolute_error: 0.1410\n",
      "Epoch 5/10\n",
      "2850542/2850542 [==============================] - 11s 4us/step - loss: 0.1222 - mean_absolute_error: 0.1222 - val_loss: 0.0949 - val_mean_absolute_error: 0.0949\n",
      "Epoch 6/10\n",
      "2850542/2850542 [==============================] - 11s 4us/step - loss: 0.1081 - mean_absolute_error: 0.1081 - val_loss: 0.1365 - val_mean_absolute_error: 0.1365\n",
      "Epoch 7/10\n",
      "2850542/2850542 [==============================] - 11s 4us/step - loss: 0.1198 - mean_absolute_error: 0.1198 - val_loss: 0.0943 - val_mean_absolute_error: 0.0943\n",
      "Epoch 8/10\n",
      "2850542/2850542 [==============================] - 12s 4us/step - loss: 0.1073 - mean_absolute_error: 0.1073 - val_loss: 0.1344 - val_mean_absolute_error: 0.1344\n",
      "Epoch 9/10\n",
      "2850542/2850542 [==============================] - 11s 4us/step - loss: 0.1188 - mean_absolute_error: 0.1188 - val_loss: 0.0930 - val_mean_absolute_error: 0.0930\n",
      "Epoch 10/10\n",
      "2850542/2850542 [==============================] - 11s 4us/step - loss: 0.1066 - mean_absolute_error: 0.1066 - val_loss: 0.1351 - val_mean_absolute_error: 0.1351\n"
     ]
    },
    {
     "data": {
      "image/png": "[encoded data removed]",
      "text/plain": [
       "<Figure size 432x288 with 1 Axes>"
      ]
     },
     "metadata": {
      "needs_background": "light"
     },
     "output_type": "display_data"
    },
    {
     "name": "stdout",
     "output_type": "stream",
     "text": [
      "Train on 2850542 samples, validate on 1221661 samples\n",
      "Epoch 1/10\n"
     ]
    }
   ],
   "source": [
    "for degree in range(1,4):\n",
    "# degree = 3\n",
    "    X = modify_dataset(X, degree)\n",
    "    lrmodel = getLinearRegressionModel(len(X.columns.values))\n",
    "    history = lrmodel.fit(X,y, batch_size=1000000, epochs=10, validation_split=.3)\n",
    "    \n",
    "    plt.plot(history.history['loss'])\n",
    "    plt.plot(history.history['val_loss'])\n",
    "    plt.title('model loss')\n",
    "    plt.ylabel('loss')\n",
    "    plt.xlabel('epoch')\n",
    "    plt.legend(['train', 'test'], loc='upper left')\n",
    "    plt.show()"
   ]
  },
  {
   "cell_type": "code",
   "execution_count": null,
   "metadata": {},
   "outputs": [],
   "source": []
  }
 ],
 "metadata": {
  "kernelspec": {
   "display_name": "Python 3",
   "language": "python",
   "name": "python3"
  },
  "language_info": {
   "codemirror_mode": {
    "name": "ipython",
    "version": 3
   },
   "file_extension": ".py",
   "mimetype": "text/x-python",
   "name": "python",
   "nbconvert_exporter": "python",
   "pygments_lexer": "ipython3",
   "version": "3.6.0"
  }
 },
 "nbformat": 4,
 "nbformat_minor": 2
}
