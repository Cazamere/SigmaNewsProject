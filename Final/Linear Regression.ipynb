{
 "cells": [
  {
   "cell_type": "markdown",
   "metadata": {},
   "source": [
    "# Linear Regression Model\n",
    "The Linear Regression model was implemented as a Feed Forward Neural Network, whichhad 1 input layer and 1 output layer."
   ]
  },
  {
   "cell_type": "code",
   "execution_count": 1,
   "metadata": {},
   "outputs": [],
   "source": [
    "import numpy as np # linear algebra\n",
    "import pandas as pd # data processing, CSV file I/O (e.g. pd.read_csv)\n",
    "import tensorflow as tf\n",
    "from tensorflow import keras\n",
    "from sklearn.preprocessing import normalize\n",
    "import matplotlib.pyplot as plt\n",
    "import pickle\n",
    "from tensorflow.keras.models import load_model"
   ]
  },
  {
   "cell_type": "code",
   "execution_count": 2,
   "metadata": {},
   "outputs": [],
   "source": [
    "#Load market and news data\n",
    "def loadDataFiles():\n",
    "    market_df = pickle.load(open('Market_train',\"rb\"))\n",
    "    news_df = pickle.load(open(\"News_train\", \"rb\"))\n",
    "    print('Finished loading datafiles!')\n",
    "    return market_df, news_df"
   ]
  },
  {
   "cell_type": "code",
   "execution_count": 3,
   "metadata": {},
   "outputs": [],
   "source": [
    "#general pre-processing, similar to all the other models\n",
    "def preprocess_data(mkt_df, news_df):\n",
    "    mkt_df['time'] = pd.to_datetime(mkt_df['time'])\n",
    "    news_df['time'] = pd.to_datetime(news_df['time'])\n",
    "    mkt_df['time'] = mkt_df['time'].dt.date\n",
    "    news_df['time'] = news_df['time'].dt.date\n",
    "    assetCodes = []\n",
    "    index = 0\n",
    "    for x in news_df['assetCodes']:\n",
    "        x = x.split(',')[0].split(\"'\")[1]\n",
    "        assetCodes.append(x)\n",
    "    news_df['assetCode'] = np.asarray(assetCodes)\n",
    "    irrelevantColumns = ['sourceTimestamp', 'firstCreated', 'sourceId', \n",
    "                         'headline', 'provider', 'subjects', 'audiences',\n",
    "                        'headlineTag', 'marketCommentary', 'assetCodes', 'assetName']\n",
    "    news_df.drop(irrelevantColumns, axis=1, inplace=True)\n",
    "    mkt_df.drop(['assetName'], axis=1, inplace=True)\n",
    "    modifiednews = news_df.groupby(['time','assetCode'], sort=False).aggregate(np.mean).reset_index()\n",
    "    \n",
    "    # join news reports to market data, note many assets will have many days without news data\n",
    "    merged = pd.merge(mkt_df, modifiednews, how='left', on=['time', 'assetCode'], copy=False) \n",
    "    merged = merged.fillna(0)\n",
    "    print('Finished preprocessing data!')\n",
    "    return merged\n"
   ]
  },
  {
   "cell_type": "code",
   "execution_count": 4,
   "metadata": {},
   "outputs": [
    {
     "ename": "ModuleNotFoundError",
     "evalue": "No module named 'pandas.core.arrays'",
     "output_type": "error",
     "traceback": [
      "\u001b[0;31m---------------------------------------------------------------------------\u001b[0m",
      "\u001b[0;31mModuleNotFoundError\u001b[0m                       Traceback (most recent call last)",
      "\u001b[0;32m<ipython-input-4-6d3eb785062f>\u001b[0m in \u001b[0;36m<module>\u001b[0;34m()\u001b[0m\n\u001b[1;32m      1\u001b[0m \u001b[0;31m#load market and news data\u001b[0m\u001b[0;34m\u001b[0m\u001b[0;34m\u001b[0m\u001b[0m\n\u001b[0;32m----> 2\u001b[0;31m \u001b[0mmarket_data\u001b[0m\u001b[0;34m,\u001b[0m \u001b[0mnews_data\u001b[0m \u001b[0;34m=\u001b[0m \u001b[0mloadDataFiles\u001b[0m\u001b[0;34m(\u001b[0m\u001b[0;34m)\u001b[0m\u001b[0;34m\u001b[0m\u001b[0m\n\u001b[0m",
      "\u001b[0;32m<ipython-input-2-6d1810787159>\u001b[0m in \u001b[0;36mloadDataFiles\u001b[0;34m()\u001b[0m\n\u001b[1;32m      1\u001b[0m \u001b[0;31m#Load market and news data\u001b[0m\u001b[0;34m\u001b[0m\u001b[0;34m\u001b[0m\u001b[0m\n\u001b[1;32m      2\u001b[0m \u001b[0;32mdef\u001b[0m \u001b[0mloadDataFiles\u001b[0m\u001b[0;34m(\u001b[0m\u001b[0;34m)\u001b[0m\u001b[0;34m:\u001b[0m\u001b[0;34m\u001b[0m\u001b[0m\n\u001b[0;32m----> 3\u001b[0;31m     \u001b[0mmarket_df\u001b[0m \u001b[0;34m=\u001b[0m \u001b[0mpickle\u001b[0m\u001b[0;34m.\u001b[0m\u001b[0mload\u001b[0m\u001b[0;34m(\u001b[0m\u001b[0mopen\u001b[0m\u001b[0;34m(\u001b[0m\u001b[0;34m'Market_train'\u001b[0m\u001b[0;34m,\u001b[0m\u001b[0;34m\"rb\"\u001b[0m\u001b[0;34m)\u001b[0m\u001b[0;34m)\u001b[0m\u001b[0;34m\u001b[0m\u001b[0m\n\u001b[0m\u001b[1;32m      4\u001b[0m     \u001b[0mnews_df\u001b[0m \u001b[0;34m=\u001b[0m \u001b[0mpickle\u001b[0m\u001b[0;34m.\u001b[0m\u001b[0mload\u001b[0m\u001b[0;34m(\u001b[0m\u001b[0mopen\u001b[0m\u001b[0;34m(\u001b[0m\u001b[0;34m\"News_train\"\u001b[0m\u001b[0;34m,\u001b[0m \u001b[0;34m\"rb\"\u001b[0m\u001b[0;34m)\u001b[0m\u001b[0;34m)\u001b[0m\u001b[0;34m\u001b[0m\u001b[0m\n\u001b[1;32m      5\u001b[0m     \u001b[0mprint\u001b[0m\u001b[0;34m(\u001b[0m\u001b[0;34m'Finished loading datafiles!'\u001b[0m\u001b[0;34m)\u001b[0m\u001b[0;34m\u001b[0m\u001b[0m\n",
      "\u001b[0;31mModuleNotFoundError\u001b[0m: No module named 'pandas.core.arrays'"
     ]
    }
   ],
   "source": [
    "#load market and news data\n",
    "market_data, news_data = loadDataFiles()"
   ]
  },
  {
   "cell_type": "code",
   "execution_count": 5,
   "metadata": {},
   "outputs": [
    {
     "name": "stdout",
     "output_type": "stream",
     "text": [
      "Finished preprocessing data!\n"
     ]
    }
   ],
   "source": [
    "#calls Preprocess fn for data\n",
    "X = preprocess_data(market_data, news_data)"
   ]
  },
  {
   "cell_type": "code",
   "execution_count": 6,
   "metadata": {},
   "outputs": [],
   "source": [
    "#Def normalize if we want to normalize\n",
    "def normalizeY(ydf):\n",
    "    ydf = (ydf + 1) / 2\n",
    "    return ydf"
   ]
  },
  {
   "cell_type": "code",
   "execution_count": 7,
   "metadata": {},
   "outputs": [],
   "source": [
    "#select features and label\n",
    "X = X[X['returnsOpenNextMktres10'] >= -1]\n",
    "X = X[X['returnsOpenNextMktres10'] <= 1]\n",
    "\n",
    "y = X['returnsOpenNextMktres10']\n",
    "\n",
    "X.drop(['returnsOpenNextMktres10'], axis=1, inplace=True)\n",
    "y = normalizeY(y)\n",
    "assetCodesAndTime = X.iloc[:, :2]\n",
    "X = X.iloc[:, 2:]"
   ]
  },
  {
   "cell_type": "code",
   "execution_count": 8,
   "metadata": {},
   "outputs": [],
   "source": [
    "#One layer linear regression model\n",
    "def getLinearRegressionModel(numfeatures):\n",
    "    inputs = keras.layers.Input(shape=(numfeatures,))\n",
    "    preds = keras.layers.Dense(1,activation='linear')(inputs)\n",
    "    model = keras.Model(inputs=inputs,outputs=preds)\n",
    "    sgd=keras.optimizers.SGD(.1)\n",
    "    model.compile(optimizer=sgd ,loss='mean_absolute_error',metrics=['mae'])\n",
    "    return model"
   ]
  },
  {
   "cell_type": "code",
   "execution_count": 9,
   "metadata": {},
   "outputs": [],
   "source": [
    "def regularize(df):\n",
    "    for column in df:\n",
    "        colmin = np.amin(df[column])\n",
    "        colmax = np.amax(df[column])\n",
    "        df[column] = (df[column] - colmin) / (colmax - colmin)\n",
    "    return df"
   ]
  },
  {
   "cell_type": "code",
   "execution_count": 10,
   "metadata": {},
   "outputs": [],
   "source": [
    "X = regularize(X)"
   ]
  },
  {
   "cell_type": "code",
   "execution_count": 11,
   "metadata": {},
   "outputs": [],
   "source": [
    "def saveModel(model, model_name):\n",
    "    model.save(model_name + '.h5')"
   ]
  },
  {
   "cell_type": "code",
   "execution_count": 12,
   "metadata": {},
   "outputs": [],
   "source": [
    "def loadModel(filename):\n",
    "    model = load_model(filename)\n",
    "    return model"
   ]
  },
  {
   "cell_type": "code",
   "execution_count": 13,
   "metadata": {},
   "outputs": [],
   "source": [
    "# returns new dataset depending on degree, adding d * i new columns to denote X_i ^ (d)\n",
    "def modify_dataset(X, degree):\n",
    "    Xn = X.copy(deep=True)\n",
    "    if degree == 0 or degree == 1:\n",
    "        return Xn\n",
    "    for x in range(degree - 1): # for each higher degree\n",
    "        for column in Xn.columns.values: # add set of columns of sample raised to the power of degree\n",
    "            newcol = column + '_' + str((x+2))\n",
    "            Xn[newcol] = Xn[column] ** (x + 2)\n",
    "    return Xn"
   ]
  },
  {
   "cell_type": "code",
   "execution_count": 14,
   "metadata": {
    "scrolled": true
   },
   "outputs": [
    {
     "name": "stdout",
     "output_type": "stream",
     "text": [
      "35\n",
      "Train on 2850542 samples, validate on 1221661 samples\n",
      "Epoch 1/10\n",
      "2850542/2850542 [==============================] - 5s 2us/step - loss: 0.1343 - mean_absolute_error: 0.1343 - val_loss: 0.1164 - val_mean_absolute_error: 0.1164\n",
      "Epoch 2/10\n",
      "2850542/2850542 [==============================] - 4s 2us/step - loss: 0.1075 - mean_absolute_error: 0.1075 - val_loss: 0.0829 - val_mean_absolute_error: 0.0829\n",
      "Epoch 3/10\n",
      "2850542/2850542 [==============================] - 5s 2us/step - loss: 0.0765 - mean_absolute_error: 0.0765 - val_loss: 0.0806 - val_mean_absolute_error: 0.0806\n",
      "Epoch 4/10\n",
      "2850542/2850542 [==============================] - 5s 2us/step - loss: 0.0765 - mean_absolute_error: 0.0765 - val_loss: 0.0842 - val_mean_absolute_error: 0.0842\n",
      "Epoch 5/10\n",
      "2850542/2850542 [==============================] - 4s 2us/step - loss: 0.0866 - mean_absolute_error: 0.0866 - val_loss: 0.0922 - val_mean_absolute_error: 0.0922\n",
      "Epoch 6/10\n",
      "2850542/2850542 [==============================] - 5s 2us/step - loss: 0.0878 - mean_absolute_error: 0.0878 - val_loss: 0.0866 - val_mean_absolute_error: 0.0866\n",
      "Epoch 7/10\n",
      "2850542/2850542 [==============================] - 4s 2us/step - loss: 0.0875 - mean_absolute_error: 0.0875 - val_loss: 0.0919 - val_mean_absolute_error: 0.0919\n",
      "Epoch 8/10\n",
      "2850542/2850542 [==============================] - 5s 2us/step - loss: 0.0876 - mean_absolute_error: 0.0876 - val_loss: 0.0869 - val_mean_absolute_error: 0.0869\n",
      "Epoch 9/10\n",
      "2850542/2850542 [==============================] - 5s 2us/step - loss: 0.0877 - mean_absolute_error: 0.0877 - val_loss: 0.0916 - val_mean_absolute_error: 0.0916\n",
      "Epoch 10/10\n",
      "2850542/2850542 [==============================] - 5s 2us/step - loss: 0.0875 - mean_absolute_error: 0.0875 - val_loss: 0.0871 - val_mean_absolute_error: 0.0871\n"
     ]
    },
    {
     "data": {
      "image/png": "[encoded data removed]",
      "text/plain": [
       "<Figure size 432x288 with 1 Axes>"
      ]
     },
     "metadata": {
      "needs_background": "light"
     },
     "output_type": "display_data"
    },
    {
     "name": "stdout",
     "output_type": "stream",
     "text": [
      "70\n",
      "Train on 2850542 samples, validate on 1221661 samples\n",
      "Epoch 1/10\n",
      "2850542/2850542 [==============================] - 10s 3us/step - loss: 0.4730 - mean_absolute_error: 0.4730 - val_loss: 0.1691 - val_mean_absolute_error: 0.1691\n",
      "Epoch 2/10\n",
      "2850542/2850542 [==============================] - 9s 3us/step - loss: 0.1440 - mean_absolute_error: 0.1440 - val_loss: 0.0972 - val_mean_absolute_error: 0.0972\n",
      "Epoch 3/10\n",
      "2850542/2850542 [==============================] - 8s 3us/step - loss: 0.0987 - mean_absolute_error: 0.0987 - val_loss: 0.1081 - val_mean_absolute_error: 0.1081\n",
      "Epoch 4/10\n",
      "2850542/2850542 [==============================] - 9s 3us/step - loss: 0.0989 - mean_absolute_error: 0.0989 - val_loss: 0.0923 - val_mean_absolute_error: 0.0923\n",
      "Epoch 5/10\n",
      "2850542/2850542 [==============================] - 10s 4us/step - loss: 0.1073 - mean_absolute_error: 0.1073 - val_loss: 0.1313 - val_mean_absolute_error: 0.1313\n",
      "Epoch 6/10\n",
      "2850542/2850542 [==============================] - 10s 4us/step - loss: 0.1172 - mean_absolute_error: 0.1172 - val_loss: 0.0904 - val_mean_absolute_error: 0.0904\n",
      "Epoch 7/10\n",
      "2850542/2850542 [==============================] - 8s 3us/step - loss: 0.1077 - mean_absolute_error: 0.1077 - val_loss: 0.1350 - val_mean_absolute_error: 0.1350\n",
      "Epoch 8/10\n",
      "2850542/2850542 [==============================] - 8s 3us/step - loss: 0.1188 - mean_absolute_error: 0.1188 - val_loss: 0.0889 - val_mean_absolute_error: 0.0889\n",
      "Epoch 9/10\n",
      "2850542/2850542 [==============================] - 9s 3us/step - loss: 0.1078 - mean_absolute_error: 0.1078 - val_loss: 0.1373 - val_mean_absolute_error: 0.1373\n",
      "Epoch 10/10\n",
      "2850542/2850542 [==============================] - 9s 3us/step - loss: 0.1198 - mean_absolute_error: 0.1198 - val_loss: 0.0884 - val_mean_absolute_error: 0.0884\n"
     ]
    },
    {
     "data": {
      "image/png": "[encoded data removed]",
      "text/plain": [
       "<Figure size 432x288 with 1 Axes>"
      ]
     },
     "metadata": {
      "needs_background": "light"
     },
     "output_type": "display_data"
    },
    {
     "name": "stdout",
     "output_type": "stream",
     "text": [
      "140\n",
      "Train on 2850542 samples, validate on 1221661 samples\n",
      "Epoch 1/10\n",
      "2850542/2850542 [==============================] - 25s 9us/step - loss: 0.4021 - mean_absolute_error: 0.4021 - val_loss: 0.1951 - val_mean_absolute_error: 0.1951\n",
      "Epoch 2/10\n",
      "2850542/2850542 [==============================] - 23s 8us/step - loss: 0.2263 - mean_absolute_error: 0.2263 - val_loss: 0.1335 - val_mean_absolute_error: 0.1335\n",
      "Epoch 3/10\n",
      "2850542/2850542 [==============================] - 24s 8us/step - loss: 0.1478 - mean_absolute_error: 0.1478 - val_loss: 0.1758 - val_mean_absolute_error: 0.1758\n",
      "Epoch 4/10\n",
      "2850542/2850542 [==============================] - 24s 8us/step - loss: 0.1505 - mean_absolute_error: 0.1505 - val_loss: 0.1030 - val_mean_absolute_error: 0.1030\n",
      "Epoch 5/10\n",
      "2850542/2850542 [==============================] - 25s 9us/step - loss: 0.1395 - mean_absolute_error: 0.1395 - val_loss: 0.2106 - val_mean_absolute_error: 0.2106\n",
      "Epoch 6/10\n",
      "2850542/2850542 [==============================] - 24s 8us/step - loss: 0.1749 - mean_absolute_error: 0.1749 - val_loss: 0.1038 - val_mean_absolute_error: 0.1038\n",
      "Epoch 7/10\n",
      "2850542/2850542 [==============================] - 25s 9us/step - loss: 0.1409 - mean_absolute_error: 0.1409 - val_loss: 0.2121 - val_mean_absolute_error: 0.2121\n",
      "Epoch 8/10\n",
      "2850542/2850542 [==============================] - 25s 9us/step - loss: 0.1758 - mean_absolute_error: 0.1758 - val_loss: 0.1041 - val_mean_absolute_error: 0.1041\n",
      "Epoch 9/10\n",
      "2850542/2850542 [==============================] - 25s 9us/step - loss: 0.1414 - mean_absolute_error: 0.1414 - val_loss: 0.2120 - val_mean_absolute_error: 0.2120\n",
      "Epoch 10/10\n",
      "2850542/2850542 [==============================] - 24s 8us/step - loss: 0.1758 - mean_absolute_error: 0.1758 - val_loss: 0.1054 - val_mean_absolute_error: 0.1054\n"
     ]
    },
    {
     "data": {
      "image/png": "[encoded data removed]",
      "text/plain": [
       "<Figure size 432x288 with 1 Axes>"
      ]
     },
     "metadata": {
      "needs_background": "light"
     },
     "output_type": "display_data"
    }
   ],
   "source": [
    "#run linear regression model over three degrees and plot train vs test loss per epoch\n",
    "for degree in range(1,4):\n",
    "    X_new = modify_dataset(X, degree)\n",
    "    lrmodel = getLinearRegressionModel(len(X_new.columns.values))\n",
    "    history = lrmodel.fit(X_new,y, batch_size=1000000, epochs=10, validation_split=.3)\n",
    "    axes = plt.gca()\n",
    "    axes.set_xlim([0, 11])\n",
    "    axes.set_ylim([0, 0.6])\n",
    "    plt.plot(history.history['loss'])\n",
    "    plt.plot(history.history['val_loss'])\n",
    "    plt.title('Model loss for')\n",
    "    plt.ylabel('loss')\n",
    "    plt.xlabel('epoch')\n",
    "    plt.grid()\n",
    "    plt.legend(['train', 'test'], loc='upper left')\n",
    "    plt.show()"
   ]
  },
  {
   "cell_type": "code",
   "execution_count": null,
   "metadata": {},
   "outputs": [],
   "source": []
  }
 ],
 "metadata": {
  "kernelspec": {
   "display_name": "Python 3",
   "language": "python",
   "name": "python3"
  },
  "language_info": {
   "codemirror_mode": {
    "name": "ipython",
    "version": 3
   },
   "file_extension": ".py",
   "mimetype": "text/x-python",
   "name": "python",
   "nbconvert_exporter": "python",
   "pygments_lexer": "ipython3",
   "version": "3.6.3"
  }
 },
 "nbformat": 4,
 "nbformat_minor": 2
}
