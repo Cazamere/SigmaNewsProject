{
 "cells": [
  {
   "cell_type": "code",
   "execution_count": 3,
   "metadata": {},
   "outputs": [
    {
     "name": "stderr",
     "output_type": "stream",
     "text": [
      "Using TensorFlow backend.\n"
     ]
    }
   ],
   "source": [
    "import pickle\n",
    "import numpy as np\n",
    "import pandas as pd\n",
    "import tensorflow as tf\n",
    "import keras as k"
   ]
  },
  {
   "cell_type": "code",
   "execution_count": 4,
   "metadata": {},
   "outputs": [],
   "source": [
    "market_train_df = pickle.load(open('Market_train',\"rb\"))\n",
    "news_train_df = pickle.load(open('News_train', 'rb'))"
   ]
  },
  {
   "cell_type": "code",
   "execution_count": 5,
   "metadata": {},
   "outputs": [
    {
     "data": {
      "text/html": [
       "<div>\n",
       "<style scoped>\n",
       "    .dataframe tbody tr th:only-of-type {\n",
       "        vertical-align: middle;\n",
       "    }\n",
       "\n",
       "    .dataframe tbody tr th {\n",
       "        vertical-align: top;\n",
       "    }\n",
       "\n",
       "    .dataframe thead th {\n",
       "        text-align: right;\n",
       "    }\n",
       "</style>\n",
       "<table border=\"1\" class=\"dataframe\">\n",
       "  <thead>\n",
       "    <tr style=\"text-align: right;\">\n",
       "      <th></th>\n",
       "      <th>time</th>\n",
       "      <th>assetCode</th>\n",
       "      <th>assetName</th>\n",
       "      <th>volume</th>\n",
       "      <th>close</th>\n",
       "      <th>open</th>\n",
       "      <th>returnsClosePrevRaw1</th>\n",
       "      <th>returnsOpenPrevRaw1</th>\n",
       "      <th>returnsClosePrevMktres1</th>\n",
       "      <th>returnsOpenPrevMktres1</th>\n",
       "      <th>returnsClosePrevRaw10</th>\n",
       "      <th>returnsOpenPrevRaw10</th>\n",
       "      <th>returnsClosePrevMktres10</th>\n",
       "      <th>returnsOpenPrevMktres10</th>\n",
       "      <th>returnsOpenNextMktres10</th>\n",
       "      <th>universe</th>\n",
       "    </tr>\n",
       "  </thead>\n",
       "  <tbody>\n",
       "    <tr>\n",
       "      <th>0</th>\n",
       "      <td>2007-02-01 22:00:00+00:00</td>\n",
       "      <td>A.N</td>\n",
       "      <td>Agilent Technologies Inc</td>\n",
       "      <td>2606900.0</td>\n",
       "      <td>32.19</td>\n",
       "      <td>32.17</td>\n",
       "      <td>0.005938</td>\n",
       "      <td>0.005312</td>\n",
       "      <td>NaN</td>\n",
       "      <td>NaN</td>\n",
       "      <td>-0.001860</td>\n",
       "      <td>0.000622</td>\n",
       "      <td>NaN</td>\n",
       "      <td>NaN</td>\n",
       "      <td>0.034672</td>\n",
       "      <td>1.0</td>\n",
       "    </tr>\n",
       "    <tr>\n",
       "      <th>1</th>\n",
       "      <td>2007-02-01 22:00:00+00:00</td>\n",
       "      <td>AAI.N</td>\n",
       "      <td>AirTran Holdings Inc</td>\n",
       "      <td>2051600.0</td>\n",
       "      <td>11.12</td>\n",
       "      <td>11.08</td>\n",
       "      <td>0.004517</td>\n",
       "      <td>-0.007168</td>\n",
       "      <td>NaN</td>\n",
       "      <td>NaN</td>\n",
       "      <td>-0.078708</td>\n",
       "      <td>-0.088066</td>\n",
       "      <td>NaN</td>\n",
       "      <td>NaN</td>\n",
       "      <td>0.027803</td>\n",
       "      <td>0.0</td>\n",
       "    </tr>\n",
       "    <tr>\n",
       "      <th>2</th>\n",
       "      <td>2007-02-01 22:00:00+00:00</td>\n",
       "      <td>AAP.N</td>\n",
       "      <td>Advance Auto Parts Inc</td>\n",
       "      <td>1164800.0</td>\n",
       "      <td>37.51</td>\n",
       "      <td>37.99</td>\n",
       "      <td>-0.011594</td>\n",
       "      <td>0.025648</td>\n",
       "      <td>NaN</td>\n",
       "      <td>NaN</td>\n",
       "      <td>0.014332</td>\n",
       "      <td>0.045405</td>\n",
       "      <td>NaN</td>\n",
       "      <td>NaN</td>\n",
       "      <td>0.024433</td>\n",
       "      <td>1.0</td>\n",
       "    </tr>\n",
       "    <tr>\n",
       "      <th>3</th>\n",
       "      <td>2007-02-01 22:00:00+00:00</td>\n",
       "      <td>AAPL.O</td>\n",
       "      <td>Apple Inc</td>\n",
       "      <td>23747329.0</td>\n",
       "      <td>84.74</td>\n",
       "      <td>86.23</td>\n",
       "      <td>-0.011548</td>\n",
       "      <td>0.016324</td>\n",
       "      <td>NaN</td>\n",
       "      <td>NaN</td>\n",
       "      <td>-0.048613</td>\n",
       "      <td>-0.037182</td>\n",
       "      <td>NaN</td>\n",
       "      <td>NaN</td>\n",
       "      <td>-0.007425</td>\n",
       "      <td>1.0</td>\n",
       "    </tr>\n",
       "    <tr>\n",
       "      <th>4</th>\n",
       "      <td>2007-02-01 22:00:00+00:00</td>\n",
       "      <td>ABB.N</td>\n",
       "      <td>ABB Ltd</td>\n",
       "      <td>1208600.0</td>\n",
       "      <td>18.02</td>\n",
       "      <td>18.01</td>\n",
       "      <td>0.011791</td>\n",
       "      <td>0.025043</td>\n",
       "      <td>NaN</td>\n",
       "      <td>NaN</td>\n",
       "      <td>0.012929</td>\n",
       "      <td>0.020397</td>\n",
       "      <td>NaN</td>\n",
       "      <td>NaN</td>\n",
       "      <td>-0.017994</td>\n",
       "      <td>1.0</td>\n",
       "    </tr>\n",
       "  </tbody>\n",
       "</table>\n",
       "</div>"
      ],
      "text/plain": [
       "                       time assetCode                 assetName      volume  \\\n",
       "0 2007-02-01 22:00:00+00:00       A.N  Agilent Technologies Inc   2606900.0   \n",
       "1 2007-02-01 22:00:00+00:00     AAI.N      AirTran Holdings Inc   2051600.0   \n",
       "2 2007-02-01 22:00:00+00:00     AAP.N    Advance Auto Parts Inc   1164800.0   \n",
       "3 2007-02-01 22:00:00+00:00    AAPL.O                 Apple Inc  23747329.0   \n",
       "4 2007-02-01 22:00:00+00:00     ABB.N                   ABB Ltd   1208600.0   \n",
       "\n",
       "   close   open  returnsClosePrevRaw1  returnsOpenPrevRaw1  \\\n",
       "0  32.19  32.17              0.005938             0.005312   \n",
       "1  11.12  11.08              0.004517            -0.007168   \n",
       "2  37.51  37.99             -0.011594             0.025648   \n",
       "3  84.74  86.23             -0.011548             0.016324   \n",
       "4  18.02  18.01              0.011791             0.025043   \n",
       "\n",
       "   returnsClosePrevMktres1  returnsOpenPrevMktres1  returnsClosePrevRaw10  \\\n",
       "0                      NaN                     NaN              -0.001860   \n",
       "1                      NaN                     NaN              -0.078708   \n",
       "2                      NaN                     NaN               0.014332   \n",
       "3                      NaN                     NaN              -0.048613   \n",
       "4                      NaN                     NaN               0.012929   \n",
       "\n",
       "   returnsOpenPrevRaw10  returnsClosePrevMktres10  returnsOpenPrevMktres10  \\\n",
       "0              0.000622                       NaN                      NaN   \n",
       "1             -0.088066                       NaN                      NaN   \n",
       "2              0.045405                       NaN                      NaN   \n",
       "3             -0.037182                       NaN                      NaN   \n",
       "4              0.020397                       NaN                      NaN   \n",
       "\n",
       "   returnsOpenNextMktres10  universe  \n",
       "0                 0.034672       1.0  \n",
       "1                 0.027803       0.0  \n",
       "2                 0.024433       1.0  \n",
       "3                -0.007425       1.0  \n",
       "4                -0.017994       1.0  "
      ]
     },
     "execution_count": 5,
     "metadata": {},
     "output_type": "execute_result"
    }
   ],
   "source": [
    "market_train_df.head()"
   ]
  },
  {
   "cell_type": "code",
   "execution_count": 6,
   "metadata": {},
   "outputs": [
    {
     "data": {
      "text/html": [
       "<div>\n",
       "<style scoped>\n",
       "    .dataframe tbody tr th:only-of-type {\n",
       "        vertical-align: middle;\n",
       "    }\n",
       "\n",
       "    .dataframe tbody tr th {\n",
       "        vertical-align: top;\n",
       "    }\n",
       "\n",
       "    .dataframe thead th {\n",
       "        text-align: right;\n",
       "    }\n",
       "</style>\n",
       "<table border=\"1\" class=\"dataframe\">\n",
       "  <thead>\n",
       "    <tr style=\"text-align: right;\">\n",
       "      <th></th>\n",
       "      <th>time</th>\n",
       "      <th>sourceTimestamp</th>\n",
       "      <th>firstCreated</th>\n",
       "      <th>sourceId</th>\n",
       "      <th>headline</th>\n",
       "      <th>urgency</th>\n",
       "      <th>takeSequence</th>\n",
       "      <th>provider</th>\n",
       "      <th>subjects</th>\n",
       "      <th>audiences</th>\n",
       "      <th>...</th>\n",
       "      <th>noveltyCount12H</th>\n",
       "      <th>noveltyCount24H</th>\n",
       "      <th>noveltyCount3D</th>\n",
       "      <th>noveltyCount5D</th>\n",
       "      <th>noveltyCount7D</th>\n",
       "      <th>volumeCounts12H</th>\n",
       "      <th>volumeCounts24H</th>\n",
       "      <th>volumeCounts3D</th>\n",
       "      <th>volumeCounts5D</th>\n",
       "      <th>volumeCounts7D</th>\n",
       "    </tr>\n",
       "  </thead>\n",
       "  <tbody>\n",
       "    <tr>\n",
       "      <th>0</th>\n",
       "      <td>2007-01-01 04:29:32+00:00</td>\n",
       "      <td>2007-01-01 04:29:32+00:00</td>\n",
       "      <td>2007-01-01 04:29:32+00:00</td>\n",
       "      <td>e58c6279551b85cf</td>\n",
       "      <td>China's Daqing pumps 43.41 mln tonnes of oil i...</td>\n",
       "      <td>3</td>\n",
       "      <td>1</td>\n",
       "      <td>RTRS</td>\n",
       "      <td>{'ENR', 'ASIA', 'CN', 'NGS', 'EMRG', 'RTRS', '...</td>\n",
       "      <td>{'Z', 'O', 'OIL'}</td>\n",
       "      <td>...</td>\n",
       "      <td>0</td>\n",
       "      <td>0</td>\n",
       "      <td>0</td>\n",
       "      <td>0</td>\n",
       "      <td>0</td>\n",
       "      <td>0</td>\n",
       "      <td>0</td>\n",
       "      <td>3</td>\n",
       "      <td>6</td>\n",
       "      <td>7</td>\n",
       "    </tr>\n",
       "    <tr>\n",
       "      <th>1</th>\n",
       "      <td>2007-01-01 07:03:35+00:00</td>\n",
       "      <td>2007-01-01 07:03:34+00:00</td>\n",
       "      <td>2007-01-01 07:03:34+00:00</td>\n",
       "      <td>5a31c4327427f63f</td>\n",
       "      <td>FEATURE-In kidnapping, finesse works best</td>\n",
       "      <td>3</td>\n",
       "      <td>1</td>\n",
       "      <td>RTRS</td>\n",
       "      <td>{'FEA', 'CA', 'LATAM', 'MX', 'INS', 'ASIA', 'I...</td>\n",
       "      <td>{'PGE', 'PCO', 'G', 'ESN', 'MD', 'PCU', 'DNP',...</td>\n",
       "      <td>...</td>\n",
       "      <td>1</td>\n",
       "      <td>1</td>\n",
       "      <td>1</td>\n",
       "      <td>1</td>\n",
       "      <td>1</td>\n",
       "      <td>1</td>\n",
       "      <td>1</td>\n",
       "      <td>3</td>\n",
       "      <td>3</td>\n",
       "      <td>3</td>\n",
       "    </tr>\n",
       "    <tr>\n",
       "      <th>2</th>\n",
       "      <td>2007-01-01 11:29:56+00:00</td>\n",
       "      <td>2007-01-01 11:29:56+00:00</td>\n",
       "      <td>2007-01-01 11:29:56+00:00</td>\n",
       "      <td>1cefd27a40fabdfe</td>\n",
       "      <td>PRESS DIGEST - Wall Street Journal - Jan 1</td>\n",
       "      <td>3</td>\n",
       "      <td>1</td>\n",
       "      <td>RTRS</td>\n",
       "      <td>{'RET', 'ENR', 'ID', 'BG', 'US', 'PRESS', 'IQ'...</td>\n",
       "      <td>{'T', 'DNP', 'PSC', 'U', 'D', 'M', 'RNP', 'PTD...</td>\n",
       "      <td>...</td>\n",
       "      <td>0</td>\n",
       "      <td>0</td>\n",
       "      <td>0</td>\n",
       "      <td>0</td>\n",
       "      <td>0</td>\n",
       "      <td>0</td>\n",
       "      <td>0</td>\n",
       "      <td>5</td>\n",
       "      <td>11</td>\n",
       "      <td>17</td>\n",
       "    </tr>\n",
       "    <tr>\n",
       "      <th>3</th>\n",
       "      <td>2007-01-01 12:08:37+00:00</td>\n",
       "      <td>2007-01-01 12:08:37+00:00</td>\n",
       "      <td>2007-01-01 12:08:37+00:00</td>\n",
       "      <td>23768af19dc69992</td>\n",
       "      <td>PRESS DIGEST - New York Times - Jan 1</td>\n",
       "      <td>3</td>\n",
       "      <td>1</td>\n",
       "      <td>RTRS</td>\n",
       "      <td>{'FUND', 'FIN', 'CA', 'SFWR', 'INS', 'PUB', 'B...</td>\n",
       "      <td>{'T', 'DNP', 'PSC', 'U', 'D', 'M', 'RNP', 'PTD...</td>\n",
       "      <td>...</td>\n",
       "      <td>0</td>\n",
       "      <td>0</td>\n",
       "      <td>0</td>\n",
       "      <td>0</td>\n",
       "      <td>0</td>\n",
       "      <td>0</td>\n",
       "      <td>0</td>\n",
       "      <td>5</td>\n",
       "      <td>13</td>\n",
       "      <td>15</td>\n",
       "    </tr>\n",
       "    <tr>\n",
       "      <th>4</th>\n",
       "      <td>2007-01-01 12:08:37+00:00</td>\n",
       "      <td>2007-01-01 12:08:37+00:00</td>\n",
       "      <td>2007-01-01 12:08:37+00:00</td>\n",
       "      <td>23768af19dc69992</td>\n",
       "      <td>PRESS DIGEST - New York Times - Jan 1</td>\n",
       "      <td>3</td>\n",
       "      <td>1</td>\n",
       "      <td>RTRS</td>\n",
       "      <td>{'FUND', 'FIN', 'CA', 'SFWR', 'INS', 'PUB', 'B...</td>\n",
       "      <td>{'T', 'DNP', 'PSC', 'U', 'D', 'M', 'RNP', 'PTD...</td>\n",
       "      <td>...</td>\n",
       "      <td>0</td>\n",
       "      <td>0</td>\n",
       "      <td>0</td>\n",
       "      <td>0</td>\n",
       "      <td>0</td>\n",
       "      <td>0</td>\n",
       "      <td>0</td>\n",
       "      <td>0</td>\n",
       "      <td>0</td>\n",
       "      <td>0</td>\n",
       "    </tr>\n",
       "  </tbody>\n",
       "</table>\n",
       "<p>5 rows × 35 columns</p>\n",
       "</div>"
      ],
      "text/plain": [
       "                       time           sourceTimestamp  \\\n",
       "0 2007-01-01 04:29:32+00:00 2007-01-01 04:29:32+00:00   \n",
       "1 2007-01-01 07:03:35+00:00 2007-01-01 07:03:34+00:00   \n",
       "2 2007-01-01 11:29:56+00:00 2007-01-01 11:29:56+00:00   \n",
       "3 2007-01-01 12:08:37+00:00 2007-01-01 12:08:37+00:00   \n",
       "4 2007-01-01 12:08:37+00:00 2007-01-01 12:08:37+00:00   \n",
       "\n",
       "               firstCreated          sourceId  \\\n",
       "0 2007-01-01 04:29:32+00:00  e58c6279551b85cf   \n",
       "1 2007-01-01 07:03:34+00:00  5a31c4327427f63f   \n",
       "2 2007-01-01 11:29:56+00:00  1cefd27a40fabdfe   \n",
       "3 2007-01-01 12:08:37+00:00  23768af19dc69992   \n",
       "4 2007-01-01 12:08:37+00:00  23768af19dc69992   \n",
       "\n",
       "                                            headline  urgency  takeSequence  \\\n",
       "0  China's Daqing pumps 43.41 mln tonnes of oil i...        3             1   \n",
       "1          FEATURE-In kidnapping, finesse works best        3             1   \n",
       "2         PRESS DIGEST - Wall Street Journal - Jan 1        3             1   \n",
       "3              PRESS DIGEST - New York Times - Jan 1        3             1   \n",
       "4              PRESS DIGEST - New York Times - Jan 1        3             1   \n",
       "\n",
       "  provider                                           subjects  \\\n",
       "0     RTRS  {'ENR', 'ASIA', 'CN', 'NGS', 'EMRG', 'RTRS', '...   \n",
       "1     RTRS  {'FEA', 'CA', 'LATAM', 'MX', 'INS', 'ASIA', 'I...   \n",
       "2     RTRS  {'RET', 'ENR', 'ID', 'BG', 'US', 'PRESS', 'IQ'...   \n",
       "3     RTRS  {'FUND', 'FIN', 'CA', 'SFWR', 'INS', 'PUB', 'B...   \n",
       "4     RTRS  {'FUND', 'FIN', 'CA', 'SFWR', 'INS', 'PUB', 'B...   \n",
       "\n",
       "                                           audiences       ...        \\\n",
       "0                                  {'Z', 'O', 'OIL'}       ...         \n",
       "1  {'PGE', 'PCO', 'G', 'ESN', 'MD', 'PCU', 'DNP',...       ...         \n",
       "2  {'T', 'DNP', 'PSC', 'U', 'D', 'M', 'RNP', 'PTD...       ...         \n",
       "3  {'T', 'DNP', 'PSC', 'U', 'D', 'M', 'RNP', 'PTD...       ...         \n",
       "4  {'T', 'DNP', 'PSC', 'U', 'D', 'M', 'RNP', 'PTD...       ...         \n",
       "\n",
       "   noveltyCount12H  noveltyCount24H noveltyCount3D  noveltyCount5D  \\\n",
       "0                0                0              0               0   \n",
       "1                1                1              1               1   \n",
       "2                0                0              0               0   \n",
       "3                0                0              0               0   \n",
       "4                0                0              0               0   \n",
       "\n",
       "   noveltyCount7D  volumeCounts12H volumeCounts24H volumeCounts3D  \\\n",
       "0               0                0               0              3   \n",
       "1               1                1               1              3   \n",
       "2               0                0               0              5   \n",
       "3               0                0               0              5   \n",
       "4               0                0               0              0   \n",
       "\n",
       "   volumeCounts5D  volumeCounts7D  \n",
       "0               6               7  \n",
       "1               3               3  \n",
       "2              11              17  \n",
       "3              13              15  \n",
       "4               0               0  \n",
       "\n",
       "[5 rows x 35 columns]"
      ]
     },
     "execution_count": 6,
     "metadata": {},
     "output_type": "execute_result"
    }
   ],
   "source": [
    "news_train_df.head()"
   ]
  },
  {
   "cell_type": "code",
   "execution_count": 7,
   "metadata": {},
   "outputs": [],
   "source": [
    "def preprocess_data(mkt_train_df, news_train_df):\n",
    "    mkt_train_df['time'] = mkt_train_df['time'].dt.date\n",
    "    news_train_df['time'] = news_train_df['time'].dt.date\n",
    "    assetCodes = []\n",
    "    index = 0\n",
    "    for x in news_train_df['assetCodes']:\n",
    "        x = x.split(',')[0].split(\"'\")[1]\n",
    "        assetCodes.append(x)\n",
    "    news_train_df['assetCode'] = np.asarray(assetCodes)\n",
    "    irrelevantColumns = ['sourceTimestamp', 'firstCreated', 'sourceId', \n",
    "                         'headline', 'provider', 'subjects', 'audiences',\n",
    "                        'headlineTag', 'marketCommentary', 'assetCodes', 'assetName']\n",
    "    news_train_df.drop(irrelevantColumns, axis=1, inplace=True)\n",
    "    market_train_df.drop(['assetName'], axis=1, inplace=True)\n",
    "    modifiednews = news_train_df.groupby(['time','assetCode'], sort=False).aggregate(np.mean).reset_index()\n",
    "    \n",
    "    # join news reports to market data, note many assets will have many days without news data\n",
    "    merged = pd.merge(mkt_train_df, modifiednews, how='left', on=['time', 'assetCode'], copy=False) \n",
    "    merged = merged.fillna(0)\n",
    "    return merged"
   ]
  },
  {
   "cell_type": "code",
   "execution_count": 8,
   "metadata": {},
   "outputs": [],
   "source": [
    "def normalizeY(ydf):\n",
    "    ydf = (ydf + 1) / 2\n",
    "    return ydf\n"
   ]
  },
  {
   "cell_type": "code",
   "execution_count": 9,
   "metadata": {},
   "outputs": [],
   "source": [
    "X = preprocess_data(market_train_df, news_train_df)\n",
    "y = X['returnsOpenNextMktres10']\n",
    "X.drop(['returnsOpenNextMktres10'], axis=1, inplace=True)\n",
    "y = normalizeY(y)\n"
   ]
  },
  {
   "cell_type": "code",
   "execution_count": 10,
   "metadata": {},
   "outputs": [
    {
     "name": "stdout",
     "output_type": "stream",
     "text": [
      "(4072956, 8)\n"
     ]
    }
   ],
   "source": [
    "X_new = X[['assetCode','close','open','sentimentClass','sentimentNegative','sentimentNeutral','sentimentPositive']]\n",
    "X_new = pd.concat((X_new,y), axis = 1)\n",
    "X_new.fillna(0)\n",
    "print(X_new.shape)"
   ]
  },
  {
   "cell_type": "code",
   "execution_count": 11,
   "metadata": {},
   "outputs": [],
   "source": [
    "#Get labels\n",
    "labels = X_new.assetCode\n",
    "labels = pd.get_dummies(labels)\n",
    "\n"
   ]
  },
  {
   "cell_type": "code",
   "execution_count": 12,
   "metadata": {},
   "outputs": [],
   "source": [
    "#Convert label to argmax\n",
    "label_n = labels.values\n"
   ]
  },
  {
   "cell_type": "code",
   "execution_count": 13,
   "metadata": {
    "scrolled": true
   },
   "outputs": [],
   "source": [
    "#Convert to integer values\n",
    "label_n = np.argmax(label_n, axis= 1)"
   ]
  },
  {
   "cell_type": "code",
   "execution_count": 14,
   "metadata": {},
   "outputs": [],
   "source": [
    "#Convert to DF\n",
    "label_pd = pd.DataFrame(label_n)"
   ]
  },
  {
   "cell_type": "code",
   "execution_count": 15,
   "metadata": {},
   "outputs": [],
   "source": [
    "X_temp = X_new.drop(labels=['assetCode'], axis=1)"
   ]
  },
  {
   "cell_type": "code",
   "execution_count": 16,
   "metadata": {},
   "outputs": [],
   "source": [
    "X_final = pd.concat((label_pd,X_temp), axis=1)"
   ]
  },
  {
   "cell_type": "code",
   "execution_count": null,
   "metadata": {},
   "outputs": [],
   "source": []
  },
  {
   "cell_type": "code",
   "execution_count": 17,
   "metadata": {},
   "outputs": [],
   "source": [
    "\n",
    "df_stock = X_final.copy()  #Get values for stock "
   ]
  },
  {
   "cell_type": "code",
   "execution_count": 66,
   "metadata": {},
   "outputs": [
    {
     "data": {
      "text/plain": [
       "(4072956, 8)"
      ]
     },
     "execution_count": 66,
     "metadata": {},
     "output_type": "execute_result"
    }
   ],
   "source": [
    "df_stock.shape"
   ]
  },
  {
   "cell_type": "code",
   "execution_count": 67,
   "metadata": {},
   "outputs": [
    {
     "name": "stdout",
     "output_type": "stream",
     "text": [
      "(4072819, 8)\n"
     ]
    }
   ],
   "source": [
    "a = df_stock[df_stock.returnsOpenNextMktres10<1]\n",
    "a = df_stock[df_stock.returnsOpenNextMktres10>0]\n",
    "print(a.shape)"
   ]
  },
  {
   "cell_type": "code",
   "execution_count": 70,
   "metadata": {},
   "outputs": [
    {
     "data": {
      "text/html": [
       "<div>\n",
       "<style scoped>\n",
       "    .dataframe tbody tr th:only-of-type {\n",
       "        vertical-align: middle;\n",
       "    }\n",
       "\n",
       "    .dataframe tbody tr th {\n",
       "        vertical-align: top;\n",
       "    }\n",
       "\n",
       "    .dataframe thead th {\n",
       "        text-align: right;\n",
       "    }\n",
       "</style>\n",
       "<table border=\"1\" class=\"dataframe\">\n",
       "  <thead>\n",
       "    <tr style=\"text-align: right;\">\n",
       "      <th></th>\n",
       "      <th>0</th>\n",
       "      <th>close</th>\n",
       "      <th>open</th>\n",
       "      <th>sentimentClass</th>\n",
       "      <th>sentimentNegative</th>\n",
       "      <th>sentimentNeutral</th>\n",
       "      <th>sentimentPositive</th>\n",
       "      <th>returnsOpenNextMktres10</th>\n",
       "    </tr>\n",
       "  </thead>\n",
       "  <tbody>\n",
       "    <tr>\n",
       "      <th>0</th>\n",
       "      <td>0</td>\n",
       "      <td>32.19</td>\n",
       "      <td>32.17</td>\n",
       "      <td>0.50</td>\n",
       "      <td>0.080418</td>\n",
       "      <td>0.568264</td>\n",
       "      <td>0.351318</td>\n",
       "      <td>0.517336</td>\n",
       "    </tr>\n",
       "    <tr>\n",
       "      <th>1</th>\n",
       "      <td>2</td>\n",
       "      <td>11.12</td>\n",
       "      <td>11.08</td>\n",
       "      <td>0.25</td>\n",
       "      <td>0.138128</td>\n",
       "      <td>0.412758</td>\n",
       "      <td>0.449114</td>\n",
       "      <td>0.513902</td>\n",
       "    </tr>\n",
       "    <tr>\n",
       "      <th>2</th>\n",
       "      <td>7</td>\n",
       "      <td>37.51</td>\n",
       "      <td>37.99</td>\n",
       "      <td>0.00</td>\n",
       "      <td>0.000000</td>\n",
       "      <td>0.000000</td>\n",
       "      <td>0.000000</td>\n",
       "      <td>0.512216</td>\n",
       "    </tr>\n",
       "    <tr>\n",
       "      <th>3</th>\n",
       "      <td>8</td>\n",
       "      <td>84.74</td>\n",
       "      <td>86.23</td>\n",
       "      <td>0.00</td>\n",
       "      <td>0.000000</td>\n",
       "      <td>0.000000</td>\n",
       "      <td>0.000000</td>\n",
       "      <td>0.496288</td>\n",
       "    </tr>\n",
       "    <tr>\n",
       "      <th>4</th>\n",
       "      <td>15</td>\n",
       "      <td>18.02</td>\n",
       "      <td>18.01</td>\n",
       "      <td>0.00</td>\n",
       "      <td>0.000000</td>\n",
       "      <td>0.000000</td>\n",
       "      <td>0.000000</td>\n",
       "      <td>0.491003</td>\n",
       "    </tr>\n",
       "  </tbody>\n",
       "</table>\n",
       "</div>"
      ],
      "text/plain": [
       "    0  close   open  sentimentClass  sentimentNegative  sentimentNeutral  \\\n",
       "0   0  32.19  32.17            0.50           0.080418          0.568264   \n",
       "1   2  11.12  11.08            0.25           0.138128          0.412758   \n",
       "2   7  37.51  37.99            0.00           0.000000          0.000000   \n",
       "3   8  84.74  86.23            0.00           0.000000          0.000000   \n",
       "4  15  18.02  18.01            0.00           0.000000          0.000000   \n",
       "\n",
       "   sentimentPositive  returnsOpenNextMktres10  \n",
       "0           0.351318                 0.517336  \n",
       "1           0.449114                 0.513902  \n",
       "2           0.000000                 0.512216  \n",
       "3           0.000000                 0.496288  \n",
       "4           0.000000                 0.491003  "
      ]
     },
     "execution_count": 70,
     "metadata": {},
     "output_type": "execute_result"
    }
   ],
   "source": [
    "a.head()"
   ]
  },
  {
   "cell_type": "code",
   "execution_count": 100,
   "metadata": {},
   "outputs": [
    {
     "name": "stdout",
     "output_type": "stream",
     "text": [
      "(4072819, 7)\n"
     ]
    }
   ],
   "source": [
    "X = a.iloc[:,0:-1]\n",
    "Y = a.iloc[:,-1]\n",
    "print(X.shape)"
   ]
  },
  {
   "cell_type": "code",
   "execution_count": 90,
   "metadata": {},
   "outputs": [],
   "source": [
    "def build_model(lre):\n",
    "    model = k.Sequential()\n",
    "    model.add(k.layers.Dense(units=256, activation='relu', input_dim= 7))\n",
    "    model.add(k.layers.Dense(units=512, activation='relu'))\n",
    "    model.add(k.layers.Dense(units=256, activation='relu'))\n",
    "    model.add(k.layers.Dense(units=64,activation='sigmoid'))\n",
    "    model.add(k.layers.Dense(units=1, activation='sigmoid'))\n",
    "    adam_o = k.optimizers.Adamax(lr=lre)\n",
    "    model.compile(optimizer = adam_o, loss = 'mean_squared_error',metrics = ['accuracy','loss'])\n",
    "    model.summary()\n",
    "    return model\n",
    "    "
   ]
  },
  {
   "cell_type": "code",
   "execution_count": 91,
   "metadata": {},
   "outputs": [
    {
     "name": "stdout",
     "output_type": "stream",
     "text": [
      "_________________________________________________________________\n",
      "Layer (type)                 Output Shape              Param #   \n",
      "=================================================================\n",
      "dense_36 (Dense)             (None, 200)               1600      \n",
      "_________________________________________________________________\n",
      "dense_37 (Dense)             (None, 200)               40200     \n",
      "_________________________________________________________________\n",
      "dense_38 (Dense)             (None, 200)               40200     \n",
      "_________________________________________________________________\n",
      "dense_39 (Dense)             (None, 30)                6030      \n",
      "_________________________________________________________________\n",
      "dense_40 (Dense)             (None, 1)                 31        \n",
      "=================================================================\n",
      "Total params: 88,061\n",
      "Trainable params: 88,061\n",
      "Non-trainable params: 0\n",
      "_________________________________________________________________\n"
     ]
    }
   ],
   "source": [
    "model = build_model(0.001)\n",
    "tensorboard = "
   ]
  },
  {
   "cell_type": "code",
   "execution_count": 92,
   "metadata": {},
   "outputs": [
    {
     "name": "stdout",
     "output_type": "stream",
     "text": [
      "Train on 3258255 samples, validate on 814564 samples\n",
      "Epoch 1/10\n",
      "3258255/3258255 [==============================] - 27s 8us/step - loss: 15.5935 - val_loss: 0.0016\n",
      "Epoch 2/10\n",
      "3258255/3258255 [==============================] - 26s 8us/step - loss: 15.5930 - val_loss: 0.0014\n",
      "Epoch 3/10\n",
      "3258255/3258255 [==============================] - 26s 8us/step - loss: 15.5930 - val_loss: 0.0014\n",
      "Epoch 4/10\n",
      "3258255/3258255 [==============================] - 26s 8us/step - loss: 15.5930 - val_loss: 0.0014\n",
      "Epoch 5/10\n",
      "3258255/3258255 [==============================] - 26s 8us/step - loss: 15.5930 - val_loss: 0.0014\n",
      "Epoch 6/10\n",
      "3258255/3258255 [==============================] - 26s 8us/step - loss: 15.5930 - val_loss: 0.0014\n",
      "Epoch 7/10\n",
      "3258255/3258255 [==============================] - 26s 8us/step - loss: 15.5930 - val_loss: 0.0014\n",
      "Epoch 8/10\n",
      "3258255/3258255 [==============================] - 26s 8us/step - loss: 15.5930 - val_loss: 0.0020\n",
      "Epoch 9/10\n",
      "3258255/3258255 [==============================] - 26s 8us/step - loss: 15.5930 - val_loss: 0.0013\n",
      "Epoch 10/10\n",
      "3258255/3258255 [==============================] - 26s 8us/step - loss: 15.5930 - val_loss: 0.0016\n"
     ]
    },
    {
     "data": {
      "text/plain": [
       "<keras.callbacks.History at 0x7f98322b4978>"
      ]
     },
     "execution_count": 92,
     "metadata": {},
     "output_type": "execute_result"
    }
   ],
   "source": [
    "history  = model.fit(X,Y,batch_size=8000,epochs=10, validation_split=0.2)"
   ]
  },
  {
   "cell_type": "code",
   "execution_count": 115,
   "metadata": {},
   "outputs": [
    {
     "name": "stdout",
     "output_type": "stream",
     "text": [
      "(1, 7)\n"
     ]
    }
   ],
   "source": [
    "b = X.iloc[59,0:7].values\n",
    "b = np.reshape(b,[1,7])\n",
    "print(b.shape)"
   ]
  },
  {
   "cell_type": "code",
   "execution_count": 116,
   "metadata": {},
   "outputs": [
    {
     "data": {
      "text/plain": [
       "array([[0.5170137]], dtype=float32)"
      ]
     },
     "execution_count": 116,
     "metadata": {},
     "output_type": "execute_result"
    }
   ],
   "source": [
    "model.predict(b)"
   ]
  },
  {
   "cell_type": "code",
   "execution_count": 117,
   "metadata": {},
   "outputs": [
    {
     "data": {
      "text/plain": [
       "0.5139016398041771"
      ]
     },
     "execution_count": 117,
     "metadata": {},
     "output_type": "execute_result"
    }
   ],
   "source": [
    "Y.iloc[1]"
   ]
  },
  {
   "cell_type": "code",
   "execution_count": null,
   "metadata": {},
   "outputs": [],
   "source": []
  },
  {
   "cell_type": "code",
   "execution_count": null,
   "metadata": {},
   "outputs": [],
   "source": []
  },
  {
   "cell_type": "code",
   "execution_count": null,
   "metadata": {},
   "outputs": [],
   "source": []
  },
  {
   "cell_type": "code",
   "execution_count": null,
   "metadata": {},
   "outputs": [],
   "source": []
  },
  {
   "cell_type": "code",
   "execution_count": null,
   "metadata": {},
   "outputs": [],
   "source": []
  },
  {
   "cell_type": "code",
   "execution_count": null,
   "metadata": {},
   "outputs": [],
   "source": []
  },
  {
   "cell_type": "code",
   "execution_count": null,
   "metadata": {},
   "outputs": [],
   "source": []
  },
  {
   "cell_type": "code",
   "execution_count": null,
   "metadata": {},
   "outputs": [],
   "source": []
  },
  {
   "cell_type": "code",
   "execution_count": null,
   "metadata": {},
   "outputs": [],
   "source": []
  },
  {
   "cell_type": "code",
   "execution_count": null,
   "metadata": {},
   "outputs": [],
   "source": []
  },
  {
   "cell_type": "code",
   "execution_count": null,
   "metadata": {},
   "outputs": [],
   "source": []
  },
  {
   "cell_type": "code",
   "execution_count": null,
   "metadata": {},
   "outputs": [],
   "source": []
  },
  {
   "cell_type": "code",
   "execution_count": null,
   "metadata": {},
   "outputs": [],
   "source": []
  }
 ],
 "metadata": {
  "kernelspec": {
   "display_name": "Python 3",
   "language": "python",
   "name": "python3"
  },
  "language_info": {
   "codemirror_mode": {
    "name": "ipython",
    "version": 3
   },
   "file_extension": ".py",
   "mimetype": "text/x-python",
   "name": "python",
   "nbconvert_exporter": "python",
   "pygments_lexer": "ipython3",
   "version": "3.6.6"
  }
 },
 "nbformat": 4,
 "nbformat_minor": 2
}
