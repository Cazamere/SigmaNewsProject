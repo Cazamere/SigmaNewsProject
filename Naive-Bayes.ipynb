{
 "cells": [
  {
   "cell_type": "code",
   "execution_count": 45,
   "metadata": {},
   "outputs": [],
   "source": [
    "import numpy as np # linear algebra\n",
    "import pandas as pd # data processing, CSV file I/O (e.g. pd.read_csv)\n",
    "import tensorflow as tf\n",
    "import math\n",
    "from tensorflow import keras\n",
    "from sklearn.preprocessing import normalize\n",
    "from sklearn.naive_bayes import GaussianNB\n",
    "from sklearn.metrics import roc_curve\n",
    "import matplotlib.pyplot as plt\n",
    "import pickle\n",
    "from tensorflow.keras.models import load_model\n",
    "from collections import defaultdict"
   ]
  },
  {
   "cell_type": "code",
   "execution_count": 2,
   "metadata": {},
   "outputs": [],
   "source": [
    "def loadDataFiles():\n",
    "    market_df = pickle.load(open('Market_train',\"rb\"))\n",
    "    news_df = pickle.load(open(\"News_train\", \"rb\"))\n",
    "    print('Finished loading datafiles!')\n",
    "    return market_df, news_df\n"
   ]
  },
  {
   "cell_type": "code",
   "execution_count": 3,
   "metadata": {},
   "outputs": [],
   "source": [
    "def preprocess_data(mkt_df, news_df):\n",
    "    mkt_df['time'] = pd.to_datetime(mkt_df['time'])\n",
    "    news_df['time'] = pd.to_datetime(news_df['time'])\n",
    "    mkt_df['time'] = mkt_df['time'].dt.date\n",
    "    news_df['time'] = news_df['time'].dt.date\n",
    "    assetCodes = []\n",
    "    index = 0\n",
    "    for x in news_df['assetCodes']:\n",
    "        x = x.split(',')[0].split(\"'\")[1]\n",
    "        assetCodes.append(x)\n",
    "    news_df['assetCode'] = np.asarray(assetCodes)\n",
    "    irrelevantColumns = ['sourceTimestamp', 'firstCreated', 'sourceId', \n",
    "                         'headline', 'provider', 'subjects', 'audiences',\n",
    "                        'headlineTag', 'marketCommentary', 'assetCodes', 'assetName']\n",
    "    news_df.drop(irrelevantColumns, axis=1, inplace=True)\n",
    "    mkt_df.drop(['assetName'], axis=1, inplace=True)\n",
    "    modifiednews = news_df.groupby(['time','assetCode'], sort=False).aggregate(np.mean).reset_index()\n",
    "    \n",
    "    # join news reports to market data, note many assets will have many days without news data\n",
    "    merged = pd.merge(mkt_df, modifiednews, how='left', on=['time', 'assetCode'], copy=False) \n",
    "    merged = merged.fillna(0)\n",
    "    print('Finished preprocessing data!')\n",
    "    return merged\n"
   ]
  },
  {
   "cell_type": "code",
   "execution_count": 4,
   "metadata": {},
   "outputs": [
    {
     "name": "stdout",
     "output_type": "stream",
     "text": [
      "Finished loading datafiles!\n"
     ]
    }
   ],
   "source": [
    "market_data, news_data = loadDataFiles()\n"
   ]
  },
  {
   "cell_type": "code",
   "execution_count": 5,
   "metadata": {},
   "outputs": [
    {
     "name": "stdout",
     "output_type": "stream",
     "text": [
      "Finished preprocessing data!\n"
     ]
    }
   ],
   "source": [
    "X = preprocess_data(market_data, news_data)\n"
   ]
  },
  {
   "cell_type": "code",
   "execution_count": 6,
   "metadata": {},
   "outputs": [
    {
     "name": "stdout",
     "output_type": "stream",
     "text": [
      "1994287\n"
     ]
    }
   ],
   "source": [
    "X = X[X['returnsOpenNextMktres10'] >= -1]\n",
    "X = X[X['returnsOpenNextMktres10'] <= 1]\n",
    "y = X['returnsOpenNextMktres10']\n",
    "X.drop(['returnsOpenNextMktres10'], axis=1, inplace=True)\n",
    "assetCodesAndTime = X.iloc[:, :2]\n",
    "X = X.iloc[:, 2:]"
   ]
  },
  {
   "cell_type": "code",
   "execution_count": 7,
   "metadata": {},
   "outputs": [],
   "source": [
    "def regularize(df):\n",
    "    for column in df:\n",
    "        colmin = np.amin(df[column])\n",
    "        colmax = np.amax(df[column])\n",
    "        df[column] = (df[column] - colmin) / (colmax - colmin)\n",
    "    return df"
   ]
  },
  {
   "cell_type": "code",
   "execution_count": 8,
   "metadata": {},
   "outputs": [],
   "source": [
    "X = regularize(X)"
   ]
  },
  {
   "cell_type": "code",
   "execution_count": 9,
   "metadata": {},
   "outputs": [],
   "source": [
    "def saveModel(model, model_name):\n",
    "    model.save(model_name + '.h5')"
   ]
  },
  {
   "cell_type": "code",
   "execution_count": 10,
   "metadata": {},
   "outputs": [],
   "source": [
    "def loadModel(filename):\n",
    "    model = load_model(filename)\n",
    "    return model"
   ]
  },
  {
   "cell_type": "code",
   "execution_count": 11,
   "metadata": {},
   "outputs": [],
   "source": [
    "def splitDataset(X, y, split):\n",
    "    index = int(split*len(y.index))\n",
    "    y_train, y_test = np.split(y, [index])\n",
    "    X_train, X_test = X.iloc[:index, :], X.iloc[index:, :]\n",
    "    return X_train, y_train, X_test, y_test"
   ]
  },
  {
   "cell_type": "code",
   "execution_count": 12,
   "metadata": {},
   "outputs": [
    {
     "name": "stdout",
     "output_type": "stream",
     "text": [
      "1374968\n",
      "619319\n"
     ]
    }
   ],
   "source": [
    "X = regularize(X)\n",
    "X_train, y_train, X_test, y_test = splitDataset(X, y, 0.7)"
   ]
  },
  {
   "cell_type": "code",
   "execution_count": 19,
   "metadata": {},
   "outputs": [],
   "source": [
    "def modify_Y(y):\n",
    "    y[y > 0] = 1\n",
    "    y[y <= 0] = 0\n",
    "    return y"
   ]
  },
  {
   "cell_type": "code",
   "execution_count": 20,
   "metadata": {},
   "outputs": [
    {
     "name": "stdout",
     "output_type": "stream",
     "text": [
      "[1. 0. 1. ... 1. 1. 0.]\n"
     ]
    }
   ],
   "source": [
    "y_train_copy = np.copy(y_train)\n",
    "y_test_copy = np.copy(y_test)\n",
    "y_train_new = modify_Y(y_train_copy)\n",
    "y_test_new = modify_Y(y_test_copy)"
   ]
  },
  {
   "cell_type": "code",
   "execution_count": 49,
   "metadata": {},
   "outputs": [
    {
     "name": "stdout",
     "output_type": "stream",
     "text": [
      "[[-1.20330046e-01 -2.17707872e+00]\n",
      " [-1.24680533e-08 -1.82000962e+01]\n",
      " [-1.60269500e-01 -1.90996322e+00]\n",
      " ...\n",
      " [-8.53628904e-02 -2.50322166e+00]\n",
      " [-9.45003468e-02 -2.40602988e+00]\n",
      " [-1.20229783e-01 -2.17786317e+00]]\n"
     ]
    }
   ],
   "source": [
    "clf = GaussianNB()\n",
    "clf.fit(X_train, y_train_new)\n",
    "y_train_pred = clf.predict(X_train)\n",
    "y_test_pred = clf.predict(X_test)\n",
    "y_score = clf.fit(X_train, y_train_new).predict_log_proba(X_test)\n",
    "false_positive_rate, true_positive_rate, _ = roc_curve(y_test_new, y_score[:,1])"
   ]
  },
  {
   "cell_type": "code",
   "execution_count": 48,
   "metadata": {},
   "outputs": [
    {
     "data": {
      "image/png": "[encoded data removed]",
      "text/plain": [
       "<Figure size 432x288 with 1 Axes>"
      ]
     },
     "metadata": {
      "needs_background": "light"
     },
     "output_type": "display_data"
    }
   ],
   "source": [
    "plt.xlabel(\"False Positive Rate\")\n",
    "plt.ylabel(\"True Positive Rate\")\n",
    "plt.title(\"ROC CURVE FOR NAIVE BAYES\")\n",
    "plt.plot(false_positive_rate, true_positive_rate, linewidth=1)\n",
    "plt.show()"
   ]
  },
  {
   "cell_type": "code",
   "execution_count": null,
   "metadata": {},
   "outputs": [],
   "source": []
  }
 ],
 "metadata": {
  "kernelspec": {
   "display_name": "Python 3",
   "language": "python",
   "name": "python3"
  },
  "language_info": {
   "codemirror_mode": {
    "name": "ipython",
    "version": 3
   },
   "file_extension": ".py",
   "mimetype": "text/x-python",
   "name": "python",
   "nbconvert_exporter": "python",
   "pygments_lexer": "ipython3",
   "version": "3.6.5"
  }
 },
 "nbformat": 4,
 "nbformat_minor": 2
}
